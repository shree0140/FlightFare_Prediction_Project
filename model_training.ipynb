{
 "cells": [
  {
   "cell_type": "markdown",
   "id": "4c042bf6",
   "metadata": {},
   "source": [
    "# Importing LIbraries"
   ]
  },
  {
   "cell_type": "code",
   "execution_count": 1,
   "id": "81e33614",
   "metadata": {},
   "outputs": [],
   "source": [
    "!pip install feature-engine\n",
    "!pip install matplotlib\n",
    "!pip install xgboost\n",
    "\n",
    "\n",
    "import numpy as np\n",
    "import pandas as pd\n",
    "import sklearn\n",
    "from sklearn.impute import SimpleImputer\n",
    "from sklearn.preprocessing import StandardScaler, OneHotEncoder\n",
    "from sklearn.pipeline import Pipeline\n",
    "from sklearn.compose import ColumnTransformer\n",
    "from feature_engine.datetime import DatetimeFeatures\n",
    "\n",
    "from sklearn.linear_model import LinearRegression\n",
    "from sklearn.svm import SVR\n",
    "from sklearn.ensemble import RandomForestRegressor\n",
    "from sklearn.metrics import r2_score\n",
    "from sklearn.model_selection import learning_curve\n",
    "from xgboost import XGBRegressor\n",
    "\n",
    "import joblib\n",
    "import matplotlib.pyplot as plt"
   ]
  },
  {
   "cell_type": "code",
   "execution_count": 2,
   "id": "ef2eda67",
   "metadata": {},
   "outputs": [],
   "source": [
    "#import sys\n",
    "#print(sys.executable)\n"
   ]
  },
  {
   "cell_type": "markdown",
   "id": "02d63e62",
   "metadata": {},
   "source": [
    "# 2.Display Settings"
   ]
  },
  {
   "cell_type": "code",
   "execution_count": 3,
   "id": "9350c301",
   "metadata": {},
   "outputs": [],
   "source": [
    "pd.set_option(\"display.max_columns\", None)"
   ]
  },
  {
   "cell_type": "code",
   "execution_count": 4,
   "id": "e03f4696",
   "metadata": {},
   "outputs": [],
   "source": [
    "sklearn.set_config(transform_output=\"default\")"
   ]
  },
  {
   "cell_type": "markdown",
   "id": "6dedc8ab",
   "metadata": {},
   "source": [
    "# 3.Getting Data\n"
   ]
  },
  {
   "cell_type": "code",
   "execution_count": 5,
   "id": "ea8d6ada",
   "metadata": {},
   "outputs": [],
   "source": [
    "train_df = pd.read_csv(\"train.csv\")"
   ]
  },
  {
   "cell_type": "code",
   "execution_count": 6,
   "id": "75290868",
   "metadata": {},
   "outputs": [],
   "source": [
    "train_df"
   ]
  },
  {
   "cell_type": "code",
   "execution_count": 7,
   "id": "64011a69",
   "metadata": {},
   "outputs": [],
   "source": [
    "val_df = pd.read_csv(\"val.csv\")"
   ]
  },
  {
   "cell_type": "code",
   "execution_count": 8,
   "id": "66447dcf",
   "metadata": {},
   "outputs": [],
   "source": [
    "val_df"
   ]
  },
  {
   "cell_type": "code",
   "execution_count": 9,
   "id": "b58c88a6",
   "metadata": {},
   "outputs": [],
   "source": [
    "test_df = pd.read_csv(\"test.csv\")"
   ]
  },
  {
   "cell_type": "code",
   "execution_count": 10,
   "id": "308846d6",
   "metadata": {},
   "outputs": [],
   "source": [
    "test_df"
   ]
  },
  {
   "cell_type": "markdown",
   "id": "8bdd746d",
   "metadata": {},
   "source": [
    "# 3.1 Splitting the data"
   ]
  },
  {
   "cell_type": "code",
   "execution_count": 11,
   "id": "9c9696c5",
   "metadata": {},
   "outputs": [],
   "source": [
    "def split_data(data):\n",
    "\tX = data.drop(columns=\"price\")\n",
    "\ty = data.price.copy()\n",
    "\treturn (X, y)"
   ]
  },
  {
   "cell_type": "code",
   "execution_count": 12,
   "id": "59cb5a45",
   "metadata": {},
   "outputs": [],
   "source": [
    "X_train, y_train = split_data(train_df)"
   ]
  },
  {
   "cell_type": "code",
   "execution_count": 13,
   "id": "c761c9ab",
   "metadata": {},
   "outputs": [],
   "source": [
    "X_train"
   ]
  },
  {
   "cell_type": "code",
   "execution_count": 14,
   "id": "be7f7815",
   "metadata": {},
   "outputs": [],
   "source": [
    "y_train"
   ]
  },
  {
   "cell_type": "code",
   "execution_count": 15,
   "id": "63d1d5ea",
   "metadata": {},
   "outputs": [],
   "source": [
    "X_val, y_val = split_data(val_df)"
   ]
  },
  {
   "cell_type": "code",
   "execution_count": 16,
   "id": "61bd67f5",
   "metadata": {},
   "outputs": [],
   "source": [
    "print(X_val.shape, y_val.shape)"
   ]
  },
  {
   "cell_type": "code",
   "execution_count": 17,
   "id": "0ec3af2f",
   "metadata": {},
   "outputs": [],
   "source": [
    "X_test, y_test = split_data(test_df)"
   ]
  },
  {
   "cell_type": "code",
   "execution_count": 18,
   "id": "c3b7651e",
   "metadata": {},
   "outputs": [],
   "source": [
    "print(X_test.shape, y_test.shape)"
   ]
  },
  {
   "cell_type": "markdown",
   "id": "75fc74ff",
   "metadata": {},
   "source": [
    "# 3.2 Meta Info"
   ]
  },
  {
   "cell_type": "code",
   "execution_count": 19,
   "id": "f4ebd4a2",
   "metadata": {},
   "outputs": [],
   "source": [
    "X_train.info()"
   ]
  },
  {
   "cell_type": "markdown",
   "id": "4d48a298",
   "metadata": {},
   "source": [
    "# 4. Data Preprocessing"
   ]
  },
  {
   "cell_type": "code",
   "execution_count": 20,
   "id": "a4b27bfe",
   "metadata": {},
   "outputs": [],
   "source": [
    "#Numerical Columns:\n",
    "\n",
    "num_cols = [\"duration\", \"total_stops\"]"
   ]
  },
  {
   "cell_type": "code",
   "execution_count": 21,
   "id": "e9e0253e",
   "metadata": {},
   "outputs": [],
   "source": [
    "#Date-Time Columns:\n",
    "\n",
    "dt_cols = [\"date_of_journey\", \"dep_time\", \"arrival_time\"]"
   ]
  },
  {
   "cell_type": "code",
   "execution_count": 22,
   "id": "f97488eb",
   "metadata": {},
   "outputs": [],
   "source": [
    "#Categorical Columns:\n",
    "\n",
    "cat_cols = [col for col in X_train.columns if (col not in dt_cols) and (col not in num_cols)]"
   ]
  },
  {
   "cell_type": "code",
   "execution_count": 23,
   "id": "267547d4",
   "metadata": {},
   "outputs": [],
   "source": [
    "cat_cols"
   ]
  },
  {
   "cell_type": "code",
   "execution_count": 24,
   "id": "2a48d251",
   "metadata": {},
   "outputs": [],
   "source": [
    "num_transformer = Pipeline(steps=[\n",
    "\t(\"imputer\", SimpleImputer(strategy=\"median\")),\n",
    "\t(\"scaler\", StandardScaler())\n",
    "])"
   ]
  },
  {
   "cell_type": "code",
   "execution_count": 25,
   "id": "dfdc9d9e",
   "metadata": {},
   "outputs": [],
   "source": [
    "cat_transformer = Pipeline(steps=[\n",
    "\t(\"imputer\", SimpleImputer(strategy=\"most_frequent\")),\n",
    "\t(\"encoder\", OneHotEncoder(sparse_output=False, handle_unknown=\"ignore\"))\n",
    "])"
   ]
  },
  {
   "cell_type": "code",
   "execution_count": 26,
   "id": "30276590",
   "metadata": {},
   "outputs": [],
   "source": [
    "doj_transformer = Pipeline(steps=[\n",
    "\t(\"imputer\", SimpleImputer(strategy=\"most_frequent\")),\n",
    "\t(\"extractor\", DatetimeFeatures(features_to_extract=[\"month\", \"week\", \"day_of_week\", \"day_of_month\"], format=\"mixed\")),\n",
    "\t(\"scaler\", StandardScaler())\n",
    "])"
   ]
  },
  {
   "cell_type": "code",
   "execution_count": 27,
   "id": "679799f8",
   "metadata": {},
   "outputs": [],
   "source": [
    "time_transformer = Pipeline(steps=[\n",
    "\t(\"imputer\", SimpleImputer(strategy=\"most_frequent\")),\n",
    "\t(\"extractor\", DatetimeFeatures(features_to_extract=[\"hour\", \"minute\"], format=\"mixed\")),\n",
    "\t(\"scaler\", StandardScaler())\n",
    "])"
   ]
  },
  {
   "cell_type": "code",
   "execution_count": 28,
   "id": "950cfb84",
   "metadata": {},
   "outputs": [],
   "source": [
    "preprocessor = ColumnTransformer(transformers=[\n",
    "\t(\"num\", num_transformer, num_cols),\n",
    "\t(\"cat\", cat_transformer, cat_cols),\n",
    "\t(\"doj\", doj_transformer, [\"date_of_journey\"]),\n",
    "\t(\"time\", time_transformer, [\"dep_time\", \"arrival_time\"])\n",
    "])"
   ]
  },
  {
   "cell_type": "code",
   "execution_count": 29,
   "id": "726b67e2",
   "metadata": {},
   "outputs": [],
   "source": [
    "preprocessor.fit_transform(X_train)\n",
    "\n"
   ]
  },
  {
   "cell_type": "code",
   "execution_count": 30,
   "id": "62030fda",
   "metadata": {},
   "outputs": [],
   "source": [
    "preprocessor.fit_transform(X_train).shape"
   ]
  },
  {
   "cell_type": "markdown",
   "id": "2eb0b44a",
   "metadata": {},
   "source": [
    "# 5.Model Selection"
   ]
  },
  {
   "cell_type": "code",
   "execution_count": 31,
   "id": "edcbb817",
   "metadata": {},
   "outputs": [],
   "source": [
    "algorithms = {\n",
    "\t\"Linear Regression\": LinearRegression(),\n",
    "\t\"Support Vector Machine\": SVR(),\n",
    "\t\"Random Forest\": RandomForestRegressor(n_estimators=10),\n",
    "\t\"XG Boost\": XGBRegressor(n_estimators=10)\n",
    "}"
   ]
  },
  {
   "cell_type": "code",
   "execution_count": 32,
   "id": "9751075d",
   "metadata": {},
   "outputs": [],
   "source": [
    "data = pd.concat([train_df, val_df], axis=0)\n",
    "data"
   ]
  },
  {
   "cell_type": "code",
   "execution_count": 33,
   "id": "369cd96b",
   "metadata": {},
   "outputs": [],
   "source": [
    "X_data, y_data = split_data(data)\n",
    "print(X_data.shape, y_data.shape)"
   ]
  },
  {
   "cell_type": "code",
   "execution_count": 34,
   "id": "7aacf42f",
   "metadata": {},
   "outputs": [],
   "source": [
    "def plot_curves(sizes, mean_scores, std_scores, label, ax):\n",
    "\tax.plot(\n",
    "\t\tsizes,\n",
    "\t\tmean_scores,\n",
    "\t\tmarker=\"o\",\n",
    "\t\tlabel=label\n",
    "\t)\n",
    "\n",
    "\tax.fill_between(\n",
    "\t\tx=sizes,\n",
    "\t\ty1=mean_scores - std_scores,\n",
    "\t\ty2=mean_scores + std_scores,\n",
    "\t\talpha=0.5\n",
    "\t)"
   ]
  },
  {
   "cell_type": "code",
   "execution_count": 35,
   "id": "1098b42a",
   "metadata": {},
   "outputs": [],
   "source": [
    "def plot_learning_curves(name, algorithm, figsize=(12, 4)):\n",
    "\tmodel = Pipeline(steps=[\n",
    "\t\t(\"pre\", preprocessor),\n",
    "\t\t(\"alg\", algorithm)\n",
    "\t])\n",
    "\n",
    "\ttrain_sizes, train_scores, test_scores = learning_curve(\n",
    "\t\testimator=model,\n",
    "\t\tX=X_data,\n",
    "\t\ty=y_data,\n",
    "\t\tcv=3,\n",
    "\t\tscoring=\"r2\",\n",
    "\t\tn_jobs=-1,\n",
    "\t\trandom_state=42\n",
    "\t)\n",
    "\t\n",
    "\tmean_train_scores = np.mean(train_scores, axis=1)\n",
    "\tstd_train_scores = np.std(train_scores, axis=1)\n",
    "\ttrain_score = f\"{mean_train_scores[-1]:.2f} +/- {std_train_scores[-1]:.2f}\"\n",
    "\n",
    "\tmean_test_scores = np.mean(test_scores, axis=1)\n",
    "\tstd_test_scores = np.std(test_scores, axis=1)\n",
    "\ttest_score = f\"{mean_test_scores[-1]:.2f} +/- {std_test_scores[-1]:.2f}\"\n",
    "\n",
    "\tfig, ax = plt.subplots(figsize=figsize)\n",
    "\n",
    "\t# training curve\n",
    "\tplot_curves(\n",
    "\t\ttrain_sizes,\n",
    "\t\tmean_train_scores,\n",
    "\t\tstd_train_scores,\n",
    "\t\tf\"Train ({train_score})\",\n",
    "\t\tax\n",
    "\t)\n",
    "\n",
    "\t# test curve\n",
    "\tplot_curves(\n",
    "\t\ttrain_sizes,\n",
    "\t\tmean_test_scores,\n",
    "\t\tstd_test_scores,\n",
    "\t\tf\"Test ({test_score})\",\n",
    "\t\tax\n",
    "\t)\n",
    "\n",
    "\tax.set(xlabel=\"Training Set Size\", ylabel=\"R-square\", title=name)\n",
    "\n",
    "\tax.legend(loc=\"lower right\")\n",
    "\n",
    "\tplt.show()"
   ]
  },
  {
   "cell_type": "code",
   "execution_count": 36,
   "id": "4c21525f",
   "metadata": {},
   "outputs": [],
   "source": [
    "for name, alg in algorithms.items():\n",
    "\tplot_learning_curves(name, alg)\n",
    "    \n",
    "#following are the learning curves for different algos:"
   ]
  },
  {
   "cell_type": "markdown",
   "id": "f51618c3",
   "metadata": {},
   "source": [
    "# 6. Model Training"
   ]
  },
  {
   "cell_type": "code",
   "execution_count": 37,
   "id": "5135f9ba",
   "metadata": {},
   "outputs": [],
   "source": [
    "model = Pipeline(steps=[\n",
    "\t(\"pre\", preprocessor),\n",
    "\t(\"rf\", RandomForestRegressor(n_estimators=10))\n",
    "])"
   ]
  },
  {
   "cell_type": "code",
   "execution_count": 38,
   "id": "6a01bfb1",
   "metadata": {},
   "outputs": [],
   "source": [
    "model.fit(X_data, y_data)"
   ]
  },
  {
   "cell_type": "markdown",
   "id": "975f0ecc",
   "metadata": {},
   "source": [
    "# 7. Model Evaluation"
   ]
  },
  {
   "cell_type": "code",
   "execution_count": 39,
   "id": "fa555aea",
   "metadata": {},
   "outputs": [],
   "source": [
    "def evaluate_model(X, y):\n",
    "\ty_pred = model.predict(X)\n",
    "\treturn r2_score(y, y_pred)"
   ]
  },
  {
   "cell_type": "code",
   "execution_count": 40,
   "id": "ee743f3e",
   "metadata": {},
   "outputs": [],
   "source": [
    "print(f\"R2 score on Training data is = {evaluate_model(X_data, y_data)}\")"
   ]
  },
  {
   "cell_type": "code",
   "execution_count": 41,
   "id": "8f031c3b",
   "metadata": {},
   "outputs": [],
   "source": [
    "print(f\"R2 score on Test data is = {evaluate_model(X_test, y_test)}\")"
   ]
  },
  {
   "cell_type": "markdown",
   "id": "8b2c29b6",
   "metadata": {},
   "source": [
    "# 8. Model Persistence"
   ]
  },
  {
   "cell_type": "code",
   "execution_count": 42,
   "id": "992bed22",
   "metadata": {},
   "outputs": [],
   "source": [
    "joblib.dump(model, \"model.joblib\")"
   ]
  },
  {
   "cell_type": "code",
   "execution_count": 43,
   "id": "e08d69fb",
   "metadata": {},
   "outputs": [],
   "source": [
    "saved_model = joblib.load(\"model.joblib\")\n",
    "saved_model"
   ]
  },
  {
   "cell_type": "code",
   "execution_count": 44,
   "id": "9e269db0",
   "metadata": {},
   "outputs": [],
   "source": [
    "y_pred = saved_model.predict(X_test)\n",
    "\n",
    "r2_score(y_test, y_pred)"
   ]
  }
 ],
 "metadata": {
  "kernelspec": {
   "display_name": "project_env",
   "language": "python",
   "name": "project_env"
  },
  "language_info": {
   "codemirror_mode": {
    "name": "ipython",
    "version": 3
   },
   "file_extension": ".py",
   "mimetype": "text/x-python",
   "name": "python",
   "nbconvert_exporter": "python",
   "pygments_lexer": "ipython3",
   "version": "3.11.9"
  }
 },
 "nbformat": 4,
 "nbformat_minor": 5
}
