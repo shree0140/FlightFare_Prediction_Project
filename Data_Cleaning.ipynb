{
 "cells": [
  {
   "cell_type": "markdown",
   "id": "c7dd594f",
   "metadata": {},
   "source": [
    "# 1. Importing Libraries:"
   ]
  },
  {
   "cell_type": "code",
   "execution_count": 69,
   "id": "9a05bdca",
   "metadata": {},
   "outputs": [],
   "source": [
    "import os\n",
    "\n",
    "import numpy as np\n",
    "\n",
    "import pandas as pd\n",
    "\n",
    "from sklearn.model_selection import train_test_split"
   ]
  },
  {
   "cell_type": "markdown",
   "id": "990046a9",
   "metadata": {},
   "source": [
    "# 2. Reading Data:"
   ]
  },
  {
   "cell_type": "code",
   "execution_count": 70,
   "id": "f742649b",
   "metadata": {},
   "outputs": [],
   "source": [
    "PROJECT_DIR = r\"C:\\Users\\HP\\OneDrive\\Desktop\\FlightFare_Prediction_Project\"\n",
    "DATA_DIR = \"data\""
   ]
  },
  {
   "cell_type": "code",
   "execution_count": 71,
   "id": "2fe441e3",
   "metadata": {},
   "outputs": [],
   "source": [
    "def get_data(name):\n",
    "\tfile_name = f\"{name}.csv\"\n",
    "\tfile_path = os.path.join(PROJECT_DIR, DATA_DIR, file_name)                             #gives complete path of file                       \n",
    "\treturn pd.read_csv(file_path)"
   ]
  },
  {
   "cell_type": "code",
   "execution_count": 73,
   "id": "6a6a98e3",
   "metadata": {},
   "outputs": [
    {
     "data": {
      "text/plain": [
       "'C:\\\\Users\\\\HP\\\\OneDrive\\\\Desktop\\\\FlightFare_Prediction_Project\\\\data\\\\flight.csv'"
      ]
     },
     "execution_count": 73,
     "metadata": {},
     "output_type": "execute_result"
    }
   ],
   "source": [
    " #os.path.join(PROJECT_DIR, DATA_DIR,\"flight.csv\")"
   ]
  },
  {
   "cell_type": "code",
   "execution_count": 75,
   "id": "ed9728bc",
   "metadata": {},
   "outputs": [],
   "source": [
    "#Original dataframe:\n",
    "\n",
    "flights = get_data(\"flight_price\")  \n"
   ]
  },
  {
   "cell_type": "code",
   "execution_count": 76,
   "id": "11d40622",
   "metadata": {},
   "outputs": [
    {
     "data": {
      "text/html": [
       "<div>\n",
       "<style scoped>\n",
       "    .dataframe tbody tr th:only-of-type {\n",
       "        vertical-align: middle;\n",
       "    }\n",
       "\n",
       "    .dataframe tbody tr th {\n",
       "        vertical-align: top;\n",
       "    }\n",
       "\n",
       "    .dataframe thead th {\n",
       "        text-align: right;\n",
       "    }\n",
       "</style>\n",
       "<table border=\"1\" class=\"dataframe\">\n",
       "  <thead>\n",
       "    <tr style=\"text-align: right;\">\n",
       "      <th></th>\n",
       "      <th>Airline</th>\n",
       "      <th>Date_of_Journey</th>\n",
       "      <th>Source</th>\n",
       "      <th>Destination</th>\n",
       "      <th>Route</th>\n",
       "      <th>Dep_Time</th>\n",
       "      <th>Arrival_Time</th>\n",
       "      <th>Duration</th>\n",
       "      <th>Total_Stops</th>\n",
       "      <th>Additional_Info</th>\n",
       "      <th>Price</th>\n",
       "    </tr>\n",
       "  </thead>\n",
       "  <tbody>\n",
       "    <tr>\n",
       "      <th>0</th>\n",
       "      <td>IndiGo</td>\n",
       "      <td>24/03/2019</td>\n",
       "      <td>Banglore</td>\n",
       "      <td>New Delhi</td>\n",
       "      <td>BLR → DEL</td>\n",
       "      <td>22:20</td>\n",
       "      <td>01:10 22 Mar</td>\n",
       "      <td>2h 50m</td>\n",
       "      <td>non-stop</td>\n",
       "      <td>No info</td>\n",
       "      <td>3897</td>\n",
       "    </tr>\n",
       "    <tr>\n",
       "      <th>1</th>\n",
       "      <td>Air India</td>\n",
       "      <td>1/05/2019</td>\n",
       "      <td>Kolkata</td>\n",
       "      <td>Banglore</td>\n",
       "      <td>CCU → IXR → BBI → BLR</td>\n",
       "      <td>05:50</td>\n",
       "      <td>13:15</td>\n",
       "      <td>7h 25m</td>\n",
       "      <td>2 stops</td>\n",
       "      <td>No info</td>\n",
       "      <td>7662</td>\n",
       "    </tr>\n",
       "    <tr>\n",
       "      <th>2</th>\n",
       "      <td>Jet Airways</td>\n",
       "      <td>9/06/2019</td>\n",
       "      <td>Delhi</td>\n",
       "      <td>Cochin</td>\n",
       "      <td>DEL → LKO → BOM → COK</td>\n",
       "      <td>09:25</td>\n",
       "      <td>04:25 10 Jun</td>\n",
       "      <td>19h</td>\n",
       "      <td>2 stops</td>\n",
       "      <td>No info</td>\n",
       "      <td>13882</td>\n",
       "    </tr>\n",
       "    <tr>\n",
       "      <th>3</th>\n",
       "      <td>IndiGo</td>\n",
       "      <td>12/05/2019</td>\n",
       "      <td>Kolkata</td>\n",
       "      <td>Banglore</td>\n",
       "      <td>CCU → NAG → BLR</td>\n",
       "      <td>18:05</td>\n",
       "      <td>23:30</td>\n",
       "      <td>5h 25m</td>\n",
       "      <td>1 stop</td>\n",
       "      <td>No info</td>\n",
       "      <td>6218</td>\n",
       "    </tr>\n",
       "    <tr>\n",
       "      <th>4</th>\n",
       "      <td>IndiGo</td>\n",
       "      <td>01/03/2019</td>\n",
       "      <td>Banglore</td>\n",
       "      <td>New Delhi</td>\n",
       "      <td>BLR → NAG → DEL</td>\n",
       "      <td>16:50</td>\n",
       "      <td>21:35</td>\n",
       "      <td>4h 45m</td>\n",
       "      <td>1 stop</td>\n",
       "      <td>No info</td>\n",
       "      <td>13302</td>\n",
       "    </tr>\n",
       "    <tr>\n",
       "      <th>...</th>\n",
       "      <td>...</td>\n",
       "      <td>...</td>\n",
       "      <td>...</td>\n",
       "      <td>...</td>\n",
       "      <td>...</td>\n",
       "      <td>...</td>\n",
       "      <td>...</td>\n",
       "      <td>...</td>\n",
       "      <td>...</td>\n",
       "      <td>...</td>\n",
       "      <td>...</td>\n",
       "    </tr>\n",
       "    <tr>\n",
       "      <th>10678</th>\n",
       "      <td>Air Asia</td>\n",
       "      <td>9/04/2019</td>\n",
       "      <td>Kolkata</td>\n",
       "      <td>Banglore</td>\n",
       "      <td>CCU → BLR</td>\n",
       "      <td>19:55</td>\n",
       "      <td>22:25</td>\n",
       "      <td>2h 30m</td>\n",
       "      <td>non-stop</td>\n",
       "      <td>No info</td>\n",
       "      <td>4107</td>\n",
       "    </tr>\n",
       "    <tr>\n",
       "      <th>10679</th>\n",
       "      <td>Air India</td>\n",
       "      <td>27/04/2019</td>\n",
       "      <td>Kolkata</td>\n",
       "      <td>Banglore</td>\n",
       "      <td>CCU → BLR</td>\n",
       "      <td>20:45</td>\n",
       "      <td>23:20</td>\n",
       "      <td>2h 35m</td>\n",
       "      <td>non-stop</td>\n",
       "      <td>No info</td>\n",
       "      <td>4145</td>\n",
       "    </tr>\n",
       "    <tr>\n",
       "      <th>10680</th>\n",
       "      <td>Jet Airways</td>\n",
       "      <td>27/04/2019</td>\n",
       "      <td>Banglore</td>\n",
       "      <td>Delhi</td>\n",
       "      <td>BLR → DEL</td>\n",
       "      <td>08:20</td>\n",
       "      <td>11:20</td>\n",
       "      <td>3h</td>\n",
       "      <td>non-stop</td>\n",
       "      <td>No info</td>\n",
       "      <td>7229</td>\n",
       "    </tr>\n",
       "    <tr>\n",
       "      <th>10681</th>\n",
       "      <td>Vistara</td>\n",
       "      <td>01/03/2019</td>\n",
       "      <td>Banglore</td>\n",
       "      <td>New Delhi</td>\n",
       "      <td>BLR → DEL</td>\n",
       "      <td>11:30</td>\n",
       "      <td>14:10</td>\n",
       "      <td>2h 40m</td>\n",
       "      <td>non-stop</td>\n",
       "      <td>No info</td>\n",
       "      <td>12648</td>\n",
       "    </tr>\n",
       "    <tr>\n",
       "      <th>10682</th>\n",
       "      <td>Air India</td>\n",
       "      <td>9/05/2019</td>\n",
       "      <td>Delhi</td>\n",
       "      <td>Cochin</td>\n",
       "      <td>DEL → GOI → BOM → COK</td>\n",
       "      <td>10:55</td>\n",
       "      <td>19:15</td>\n",
       "      <td>8h 20m</td>\n",
       "      <td>2 stops</td>\n",
       "      <td>No info</td>\n",
       "      <td>11753</td>\n",
       "    </tr>\n",
       "  </tbody>\n",
       "</table>\n",
       "<p>10683 rows × 11 columns</p>\n",
       "</div>"
      ],
      "text/plain": [
       "           Airline Date_of_Journey    Source Destination  \\\n",
       "0           IndiGo      24/03/2019  Banglore   New Delhi   \n",
       "1        Air India       1/05/2019   Kolkata    Banglore   \n",
       "2      Jet Airways       9/06/2019     Delhi      Cochin   \n",
       "3           IndiGo      12/05/2019   Kolkata    Banglore   \n",
       "4           IndiGo      01/03/2019  Banglore   New Delhi   \n",
       "...            ...             ...       ...         ...   \n",
       "10678     Air Asia       9/04/2019   Kolkata    Banglore   \n",
       "10679    Air India      27/04/2019   Kolkata    Banglore   \n",
       "10680  Jet Airways      27/04/2019  Banglore       Delhi   \n",
       "10681      Vistara      01/03/2019  Banglore   New Delhi   \n",
       "10682    Air India       9/05/2019     Delhi      Cochin   \n",
       "\n",
       "                       Route Dep_Time  Arrival_Time Duration Total_Stops  \\\n",
       "0                  BLR → DEL    22:20  01:10 22 Mar   2h 50m    non-stop   \n",
       "1      CCU → IXR → BBI → BLR    05:50         13:15   7h 25m     2 stops   \n",
       "2      DEL → LKO → BOM → COK    09:25  04:25 10 Jun      19h     2 stops   \n",
       "3            CCU → NAG → BLR    18:05         23:30   5h 25m      1 stop   \n",
       "4            BLR → NAG → DEL    16:50         21:35   4h 45m      1 stop   \n",
       "...                      ...      ...           ...      ...         ...   \n",
       "10678              CCU → BLR    19:55         22:25   2h 30m    non-stop   \n",
       "10679              CCU → BLR    20:45         23:20   2h 35m    non-stop   \n",
       "10680              BLR → DEL    08:20         11:20       3h    non-stop   \n",
       "10681              BLR → DEL    11:30         14:10   2h 40m    non-stop   \n",
       "10682  DEL → GOI → BOM → COK    10:55         19:15   8h 20m     2 stops   \n",
       "\n",
       "      Additional_Info  Price  \n",
       "0             No info   3897  \n",
       "1             No info   7662  \n",
       "2             No info  13882  \n",
       "3             No info   6218  \n",
       "4             No info  13302  \n",
       "...               ...    ...  \n",
       "10678         No info   4107  \n",
       "10679         No info   4145  \n",
       "10680         No info   7229  \n",
       "10681         No info  12648  \n",
       "10682         No info  11753  \n",
       "\n",
       "[10683 rows x 11 columns]"
      ]
     },
     "execution_count": 76,
     "metadata": {},
     "output_type": "execute_result"
    }
   ],
   "source": [
    "flights"
   ]
  },
  {
   "cell_type": "code",
   "execution_count": 77,
   "id": "b6aab474",
   "metadata": {},
   "outputs": [
    {
     "name": "stdout",
     "output_type": "stream",
     "text": [
      "<class 'pandas.core.frame.DataFrame'>\n",
      "RangeIndex: 10683 entries, 0 to 10682\n",
      "Data columns (total 11 columns):\n",
      " #   Column           Non-Null Count  Dtype \n",
      "---  ------           --------------  ----- \n",
      " 0   Airline          10683 non-null  object\n",
      " 1   Date_of_Journey  10683 non-null  object\n",
      " 2   Source           10683 non-null  object\n",
      " 3   Destination      10683 non-null  object\n",
      " 4   Route            10682 non-null  object\n",
      " 5   Dep_Time         10683 non-null  object\n",
      " 6   Arrival_Time     10683 non-null  object\n",
      " 7   Duration         10683 non-null  object\n",
      " 8   Total_Stops      10682 non-null  object\n",
      " 9   Additional_Info  10683 non-null  object\n",
      " 10  Price            10683 non-null  int64 \n",
      "dtypes: int64(1), object(10)\n",
      "memory usage: 918.2+ KB\n"
     ]
    }
   ],
   "source": [
    "flights.info()"
   ]
  },
  {
   "cell_type": "markdown",
   "id": "52957355",
   "metadata": {},
   "source": [
    "### Observation:\n",
    "-- The dataset contains 10,683 rows and 11 features\n",
    "\n",
    "-- Columns Route and Total_Stops have missing value each\n",
    "\n",
    "-- The data types of some features isn't appropriate"
   ]
  },
  {
   "cell_type": "markdown",
   "id": "34c083e4",
   "metadata": {},
   "source": [
    "# 3. Preliminary Analysis"
   ]
  },
  {
   "cell_type": "markdown",
   "id": "3af7f3b6",
   "metadata": {},
   "source": [
    "### 3.1 Checking Data Types"
   ]
  },
  {
   "cell_type": "code",
   "execution_count": 78,
   "id": "a37c8204",
   "metadata": {},
   "outputs": [
    {
     "data": {
      "text/html": [
       "<div>\n",
       "<style scoped>\n",
       "    .dataframe tbody tr th:only-of-type {\n",
       "        vertical-align: middle;\n",
       "    }\n",
       "\n",
       "    .dataframe tbody tr th {\n",
       "        vertical-align: top;\n",
       "    }\n",
       "\n",
       "    .dataframe thead th {\n",
       "        text-align: right;\n",
       "    }\n",
       "</style>\n",
       "<table border=\"1\" class=\"dataframe\">\n",
       "  <thead>\n",
       "    <tr style=\"text-align: right;\">\n",
       "      <th></th>\n",
       "      <th>Airline</th>\n",
       "      <th>Date_of_Journey</th>\n",
       "      <th>Source</th>\n",
       "      <th>Destination</th>\n",
       "      <th>Route</th>\n",
       "      <th>Dep_Time</th>\n",
       "      <th>Arrival_Time</th>\n",
       "      <th>Duration</th>\n",
       "      <th>Total_Stops</th>\n",
       "      <th>Additional_Info</th>\n",
       "      <th>Price</th>\n",
       "    </tr>\n",
       "  </thead>\n",
       "  <tbody>\n",
       "    <tr>\n",
       "      <th>0</th>\n",
       "      <td>IndiGo</td>\n",
       "      <td>24/03/2019</td>\n",
       "      <td>Banglore</td>\n",
       "      <td>New Delhi</td>\n",
       "      <td>BLR → DEL</td>\n",
       "      <td>22:20</td>\n",
       "      <td>01:10 22 Mar</td>\n",
       "      <td>2h 50m</td>\n",
       "      <td>non-stop</td>\n",
       "      <td>No info</td>\n",
       "      <td>3897</td>\n",
       "    </tr>\n",
       "    <tr>\n",
       "      <th>1</th>\n",
       "      <td>Air India</td>\n",
       "      <td>1/05/2019</td>\n",
       "      <td>Kolkata</td>\n",
       "      <td>Banglore</td>\n",
       "      <td>CCU → IXR → BBI → BLR</td>\n",
       "      <td>05:50</td>\n",
       "      <td>13:15</td>\n",
       "      <td>7h 25m</td>\n",
       "      <td>2 stops</td>\n",
       "      <td>No info</td>\n",
       "      <td>7662</td>\n",
       "    </tr>\n",
       "    <tr>\n",
       "      <th>2</th>\n",
       "      <td>Jet Airways</td>\n",
       "      <td>9/06/2019</td>\n",
       "      <td>Delhi</td>\n",
       "      <td>Cochin</td>\n",
       "      <td>DEL → LKO → BOM → COK</td>\n",
       "      <td>09:25</td>\n",
       "      <td>04:25 10 Jun</td>\n",
       "      <td>19h</td>\n",
       "      <td>2 stops</td>\n",
       "      <td>No info</td>\n",
       "      <td>13882</td>\n",
       "    </tr>\n",
       "    <tr>\n",
       "      <th>3</th>\n",
       "      <td>IndiGo</td>\n",
       "      <td>12/05/2019</td>\n",
       "      <td>Kolkata</td>\n",
       "      <td>Banglore</td>\n",
       "      <td>CCU → NAG → BLR</td>\n",
       "      <td>18:05</td>\n",
       "      <td>23:30</td>\n",
       "      <td>5h 25m</td>\n",
       "      <td>1 stop</td>\n",
       "      <td>No info</td>\n",
       "      <td>6218</td>\n",
       "    </tr>\n",
       "    <tr>\n",
       "      <th>4</th>\n",
       "      <td>IndiGo</td>\n",
       "      <td>01/03/2019</td>\n",
       "      <td>Banglore</td>\n",
       "      <td>New Delhi</td>\n",
       "      <td>BLR → NAG → DEL</td>\n",
       "      <td>16:50</td>\n",
       "      <td>21:35</td>\n",
       "      <td>4h 45m</td>\n",
       "      <td>1 stop</td>\n",
       "      <td>No info</td>\n",
       "      <td>13302</td>\n",
       "    </tr>\n",
       "  </tbody>\n",
       "</table>\n",
       "</div>"
      ],
      "text/plain": [
       "       Airline Date_of_Journey    Source Destination                  Route  \\\n",
       "0       IndiGo      24/03/2019  Banglore   New Delhi              BLR → DEL   \n",
       "1    Air India       1/05/2019   Kolkata    Banglore  CCU → IXR → BBI → BLR   \n",
       "2  Jet Airways       9/06/2019     Delhi      Cochin  DEL → LKO → BOM → COK   \n",
       "3       IndiGo      12/05/2019   Kolkata    Banglore        CCU → NAG → BLR   \n",
       "4       IndiGo      01/03/2019  Banglore   New Delhi        BLR → NAG → DEL   \n",
       "\n",
       "  Dep_Time  Arrival_Time Duration Total_Stops Additional_Info  Price  \n",
       "0    22:20  01:10 22 Mar   2h 50m    non-stop         No info   3897  \n",
       "1    05:50         13:15   7h 25m     2 stops         No info   7662  \n",
       "2    09:25  04:25 10 Jun      19h     2 stops         No info  13882  \n",
       "3    18:05         23:30   5h 25m      1 stop         No info   6218  \n",
       "4    16:50         21:35   4h 45m      1 stop         No info  13302  "
      ]
     },
     "execution_count": 78,
     "metadata": {},
     "output_type": "execute_result"
    }
   ],
   "source": [
    "flights.head()"
   ]
  },
  {
   "cell_type": "code",
   "execution_count": 79,
   "id": "09fe6b1a",
   "metadata": {},
   "outputs": [
    {
     "data": {
      "text/plain": [
       "Airline            object\n",
       "Date_of_Journey    object\n",
       "Source             object\n",
       "Destination        object\n",
       "Route              object\n",
       "Dep_Time           object\n",
       "Arrival_Time       object\n",
       "Duration           object\n",
       "Total_Stops        object\n",
       "Additional_Info    object\n",
       "Price               int64\n",
       "dtype: object"
      ]
     },
     "execution_count": 79,
     "metadata": {},
     "output_type": "execute_result"
    }
   ],
   "source": [
    "flights.dtypes"
   ]
  },
  {
   "cell_type": "code",
   "execution_count": 80,
   "id": "a5a4b417",
   "metadata": {},
   "outputs": [
    {
     "data": {
      "text/plain": [
       "'12/03/2019'"
      ]
     },
     "execution_count": 80,
     "metadata": {},
     "output_type": "execute_result"
    }
   ],
   "source": [
    "value = flights.Date_of_Journey.iloc[6]                  #checking random value\n",
    "value"
   ]
  },
  {
   "cell_type": "code",
   "execution_count": 81,
   "id": "3ae6a371",
   "metadata": {},
   "outputs": [
    {
     "data": {
      "text/plain": [
       "'18:55'"
      ]
     },
     "execution_count": 81,
     "metadata": {},
     "output_type": "execute_result"
    }
   ],
   "source": [
    "value = flights.Dep_Time.iloc[6]                         #checking random value\n",
    "value"
   ]
  },
  {
   "cell_type": "markdown",
   "id": "e38b0f91",
   "metadata": {},
   "source": [
    "### 3.2 Check for Duplicates"
   ]
  },
  {
   "cell_type": "code",
   "execution_count": 82,
   "id": "840f67d1",
   "metadata": {},
   "outputs": [
    {
     "data": {
      "text/plain": [
       "220"
      ]
     },
     "execution_count": 82,
     "metadata": {},
     "output_type": "execute_result"
    }
   ],
   "source": [
    "flights.duplicated().sum()"
   ]
  },
  {
   "cell_type": "code",
   "execution_count": 83,
   "id": "e8d06e9c",
   "metadata": {},
   "outputs": [
    {
     "data": {
      "text/html": [
       "<div>\n",
       "<style scoped>\n",
       "    .dataframe tbody tr th:only-of-type {\n",
       "        vertical-align: middle;\n",
       "    }\n",
       "\n",
       "    .dataframe tbody tr th {\n",
       "        vertical-align: top;\n",
       "    }\n",
       "\n",
       "    .dataframe thead th {\n",
       "        text-align: right;\n",
       "    }\n",
       "</style>\n",
       "<table border=\"1\" class=\"dataframe\">\n",
       "  <thead>\n",
       "    <tr style=\"text-align: right;\">\n",
       "      <th></th>\n",
       "      <th>Airline</th>\n",
       "      <th>Date_of_Journey</th>\n",
       "      <th>Source</th>\n",
       "      <th>Destination</th>\n",
       "      <th>Route</th>\n",
       "      <th>Dep_Time</th>\n",
       "      <th>Arrival_Time</th>\n",
       "      <th>Duration</th>\n",
       "      <th>Total_Stops</th>\n",
       "      <th>Additional_Info</th>\n",
       "      <th>Price</th>\n",
       "    </tr>\n",
       "  </thead>\n",
       "  <tbody>\n",
       "    <tr>\n",
       "      <th>6321</th>\n",
       "      <td>Air India</td>\n",
       "      <td>01/03/2019</td>\n",
       "      <td>Banglore</td>\n",
       "      <td>New Delhi</td>\n",
       "      <td>BLR → BOM → AMD → DEL</td>\n",
       "      <td>08:50</td>\n",
       "      <td>23:55 02 Mar</td>\n",
       "      <td>39h 5m</td>\n",
       "      <td>2 stops</td>\n",
       "      <td>No info</td>\n",
       "      <td>17135</td>\n",
       "    </tr>\n",
       "    <tr>\n",
       "      <th>9848</th>\n",
       "      <td>Air India</td>\n",
       "      <td>01/03/2019</td>\n",
       "      <td>Banglore</td>\n",
       "      <td>New Delhi</td>\n",
       "      <td>BLR → BOM → AMD → DEL</td>\n",
       "      <td>08:50</td>\n",
       "      <td>23:55 02 Mar</td>\n",
       "      <td>39h 5m</td>\n",
       "      <td>2 stops</td>\n",
       "      <td>No info</td>\n",
       "      <td>17135</td>\n",
       "    </tr>\n",
       "    <tr>\n",
       "      <th>572</th>\n",
       "      <td>Air India</td>\n",
       "      <td>03/03/2019</td>\n",
       "      <td>Banglore</td>\n",
       "      <td>New Delhi</td>\n",
       "      <td>BLR → DEL</td>\n",
       "      <td>21:10</td>\n",
       "      <td>23:55</td>\n",
       "      <td>2h 45m</td>\n",
       "      <td>non-stop</td>\n",
       "      <td>No info</td>\n",
       "      <td>7591</td>\n",
       "    </tr>\n",
       "    <tr>\n",
       "      <th>8168</th>\n",
       "      <td>Air India</td>\n",
       "      <td>03/03/2019</td>\n",
       "      <td>Banglore</td>\n",
       "      <td>New Delhi</td>\n",
       "      <td>BLR → DEL</td>\n",
       "      <td>21:10</td>\n",
       "      <td>23:55</td>\n",
       "      <td>2h 45m</td>\n",
       "      <td>non-stop</td>\n",
       "      <td>No info</td>\n",
       "      <td>7591</td>\n",
       "    </tr>\n",
       "    <tr>\n",
       "      <th>1495</th>\n",
       "      <td>Air India</td>\n",
       "      <td>1/04/2019</td>\n",
       "      <td>Kolkata</td>\n",
       "      <td>Banglore</td>\n",
       "      <td>CCU → DEL → COK → BLR</td>\n",
       "      <td>10:00</td>\n",
       "      <td>01:20 02 Apr</td>\n",
       "      <td>15h 20m</td>\n",
       "      <td>2 stops</td>\n",
       "      <td>No info</td>\n",
       "      <td>10408</td>\n",
       "    </tr>\n",
       "    <tr>\n",
       "      <th>...</th>\n",
       "      <td>...</td>\n",
       "      <td>...</td>\n",
       "      <td>...</td>\n",
       "      <td>...</td>\n",
       "      <td>...</td>\n",
       "      <td>...</td>\n",
       "      <td>...</td>\n",
       "      <td>...</td>\n",
       "      <td>...</td>\n",
       "      <td>...</td>\n",
       "      <td>...</td>\n",
       "    </tr>\n",
       "    <tr>\n",
       "      <th>2692</th>\n",
       "      <td>SpiceJet</td>\n",
       "      <td>24/03/2019</td>\n",
       "      <td>Banglore</td>\n",
       "      <td>New Delhi</td>\n",
       "      <td>BLR → DEL</td>\n",
       "      <td>05:45</td>\n",
       "      <td>08:35</td>\n",
       "      <td>2h 50m</td>\n",
       "      <td>non-stop</td>\n",
       "      <td>No check-in baggage included</td>\n",
       "      <td>4273</td>\n",
       "    </tr>\n",
       "    <tr>\n",
       "      <th>2870</th>\n",
       "      <td>SpiceJet</td>\n",
       "      <td>24/03/2019</td>\n",
       "      <td>Banglore</td>\n",
       "      <td>New Delhi</td>\n",
       "      <td>BLR → DEL</td>\n",
       "      <td>05:45</td>\n",
       "      <td>08:35</td>\n",
       "      <td>2h 50m</td>\n",
       "      <td>non-stop</td>\n",
       "      <td>No check-in baggage included</td>\n",
       "      <td>4273</td>\n",
       "    </tr>\n",
       "    <tr>\n",
       "      <th>3711</th>\n",
       "      <td>SpiceJet</td>\n",
       "      <td>24/03/2019</td>\n",
       "      <td>Banglore</td>\n",
       "      <td>New Delhi</td>\n",
       "      <td>BLR → DEL</td>\n",
       "      <td>20:30</td>\n",
       "      <td>23:20</td>\n",
       "      <td>2h 50m</td>\n",
       "      <td>non-stop</td>\n",
       "      <td>No check-in baggage included</td>\n",
       "      <td>3873</td>\n",
       "    </tr>\n",
       "    <tr>\n",
       "      <th>2634</th>\n",
       "      <td>Vistara</td>\n",
       "      <td>24/03/2019</td>\n",
       "      <td>Banglore</td>\n",
       "      <td>New Delhi</td>\n",
       "      <td>BLR → DEL</td>\n",
       "      <td>11:30</td>\n",
       "      <td>14:10</td>\n",
       "      <td>2h 40m</td>\n",
       "      <td>non-stop</td>\n",
       "      <td>No info</td>\n",
       "      <td>5403</td>\n",
       "    </tr>\n",
       "    <tr>\n",
       "      <th>5470</th>\n",
       "      <td>Vistara</td>\n",
       "      <td>24/03/2019</td>\n",
       "      <td>Banglore</td>\n",
       "      <td>New Delhi</td>\n",
       "      <td>BLR → DEL</td>\n",
       "      <td>11:30</td>\n",
       "      <td>14:10</td>\n",
       "      <td>2h 40m</td>\n",
       "      <td>non-stop</td>\n",
       "      <td>No info</td>\n",
       "      <td>5403</td>\n",
       "    </tr>\n",
       "  </tbody>\n",
       "</table>\n",
       "<p>415 rows × 11 columns</p>\n",
       "</div>"
      ],
      "text/plain": [
       "        Airline Date_of_Journey    Source Destination                  Route  \\\n",
       "6321  Air India      01/03/2019  Banglore   New Delhi  BLR → BOM → AMD → DEL   \n",
       "9848  Air India      01/03/2019  Banglore   New Delhi  BLR → BOM → AMD → DEL   \n",
       "572   Air India      03/03/2019  Banglore   New Delhi              BLR → DEL   \n",
       "8168  Air India      03/03/2019  Banglore   New Delhi              BLR → DEL   \n",
       "1495  Air India       1/04/2019   Kolkata    Banglore  CCU → DEL → COK → BLR   \n",
       "...         ...             ...       ...         ...                    ...   \n",
       "2692   SpiceJet      24/03/2019  Banglore   New Delhi              BLR → DEL   \n",
       "2870   SpiceJet      24/03/2019  Banglore   New Delhi              BLR → DEL   \n",
       "3711   SpiceJet      24/03/2019  Banglore   New Delhi              BLR → DEL   \n",
       "2634    Vistara      24/03/2019  Banglore   New Delhi              BLR → DEL   \n",
       "5470    Vistara      24/03/2019  Banglore   New Delhi              BLR → DEL   \n",
       "\n",
       "     Dep_Time  Arrival_Time Duration Total_Stops  \\\n",
       "6321    08:50  23:55 02 Mar   39h 5m     2 stops   \n",
       "9848    08:50  23:55 02 Mar   39h 5m     2 stops   \n",
       "572     21:10         23:55   2h 45m    non-stop   \n",
       "8168    21:10         23:55   2h 45m    non-stop   \n",
       "1495    10:00  01:20 02 Apr  15h 20m     2 stops   \n",
       "...       ...           ...      ...         ...   \n",
       "2692    05:45         08:35   2h 50m    non-stop   \n",
       "2870    05:45         08:35   2h 50m    non-stop   \n",
       "3711    20:30         23:20   2h 50m    non-stop   \n",
       "2634    11:30         14:10   2h 40m    non-stop   \n",
       "5470    11:30         14:10   2h 40m    non-stop   \n",
       "\n",
       "                   Additional_Info  Price  \n",
       "6321                       No info  17135  \n",
       "9848                       No info  17135  \n",
       "572                        No info   7591  \n",
       "8168                       No info   7591  \n",
       "1495                       No info  10408  \n",
       "...                            ...    ...  \n",
       "2692  No check-in baggage included   4273  \n",
       "2870  No check-in baggage included   4273  \n",
       "3711  No check-in baggage included   3873  \n",
       "2634                       No info   5403  \n",
       "5470                       No info   5403  \n",
       "\n",
       "[415 rows x 11 columns]"
      ]
     },
     "execution_count": 83,
     "metadata": {},
     "output_type": "execute_result"
    }
   ],
   "source": [
    "#getting dataframe of duplicate entries and bringing them together by sorting.\n",
    "\n",
    "(\n",
    "\tflights\n",
    "\t.loc[flights.duplicated(keep=False)]\n",
    "\t.sort_values([\"Airline\", \"Date_of_Journey\", \"Source\", \"Destination\"])\n",
    ")"
   ]
  },
  {
   "cell_type": "markdown",
   "id": "d8532a31",
   "metadata": {},
   "source": [
    "### 3.3 Observations\n",
    "-- The type of Date_of_Journey, Dep_Time and Arrival_Time should be changed to datetime\n",
    "\n",
    "-- The type of Duration and Total_Stops is mixed. It should be numeric type.\n",
    "\n",
    "-- There're 220 duplicates. These should be removed."
   ]
  },
  {
   "cell_type": "markdown",
   "id": "4f2af275",
   "metadata": {},
   "source": [
    "## 4. Detailed Analysis"
   ]
  },
  {
   "cell_type": "markdown",
   "id": "2b666fb5",
   "metadata": {},
   "source": [
    "### Airline"
   ]
  },
  {
   "cell_type": "code",
   "execution_count": 84,
   "id": "4aa9ecc7",
   "metadata": {},
   "outputs": [
    {
     "data": {
      "text/plain": [
       "0             IndiGo\n",
       "1          Air India\n",
       "2        Jet Airways\n",
       "3             IndiGo\n",
       "4             IndiGo\n",
       "            ...     \n",
       "10678       Air Asia\n",
       "10679      Air India\n",
       "10680    Jet Airways\n",
       "10681        Vistara\n",
       "10682      Air India\n",
       "Name: Airline, Length: 10683, dtype: object"
      ]
     },
     "execution_count": 84,
     "metadata": {},
     "output_type": "execute_result"
    }
   ],
   "source": [
    "flights.Airline"
   ]
  },
  {
   "cell_type": "code",
   "execution_count": 85,
   "id": "a4c08dc2",
   "metadata": {},
   "outputs": [
    {
     "data": {
      "text/plain": [
       "array(['IndiGo', 'Air India', 'Jet Airways', 'SpiceJet',\n",
       "       'Multiple carriers', 'GoAir', 'Vistara', 'Air Asia',\n",
       "       'Vistara Premium economy', 'Jet Airways Business',\n",
       "       'Multiple carriers Premium economy', 'Trujet'], dtype=object)"
      ]
     },
     "execution_count": 85,
     "metadata": {},
     "output_type": "execute_result"
    }
   ],
   "source": [
    "flights.Airline.unique()"
   ]
  },
  {
   "cell_type": "markdown",
   "id": "7a4d5530",
   "metadata": {},
   "source": [
    "-- Some of the entries have inconsistent/inaccurate values"
   ]
  },
  {
   "cell_type": "code",
   "execution_count": 87,
   "id": "a7fbacd7",
   "metadata": {},
   "outputs": [
    {
     "data": {
      "text/plain": [
       "0             Indigo\n",
       "1          Air India\n",
       "2        Jet Airways\n",
       "3             Indigo\n",
       "4             Indigo\n",
       "            ...     \n",
       "10678       Air Asia\n",
       "10679      Air India\n",
       "10680    Jet Airways\n",
       "10681        Vistara\n",
       "10682      Air India\n",
       "Name: Airline, Length: 10683, dtype: object"
      ]
     },
     "execution_count": 87,
     "metadata": {},
     "output_type": "execute_result"
    }
   ],
   "source": [
    "(\n",
    "\tflights\n",
    "\t.Airline\n",
    "\t.str.replace(\" Premium economy\", \"\")\n",
    "\t.str.replace(\" Business\", \"\")\n",
    "\t.str.title()\n",
    ")"
   ]
  },
  {
   "cell_type": "markdown",
   "id": "2869cd41",
   "metadata": {},
   "source": [
    "### Date of Journey"
   ]
  },
  {
   "cell_type": "code",
   "execution_count": 88,
   "id": "ebc1c383",
   "metadata": {},
   "outputs": [
    {
     "data": {
      "text/plain": [
       "0        24/03/2019\n",
       "1         1/05/2019\n",
       "2         9/06/2019\n",
       "3        12/05/2019\n",
       "4        01/03/2019\n",
       "            ...    \n",
       "10678     9/04/2019\n",
       "10679    27/04/2019\n",
       "10680    27/04/2019\n",
       "10681    01/03/2019\n",
       "10682     9/05/2019\n",
       "Name: Date_of_Journey, Length: 10683, dtype: object"
      ]
     },
     "execution_count": 88,
     "metadata": {},
     "output_type": "execute_result"
    }
   ],
   "source": [
    "flights.Date_of_Journey"
   ]
  },
  {
   "cell_type": "code",
   "execution_count": 89,
   "id": "1603d0ee",
   "metadata": {},
   "outputs": [
    {
     "data": {
      "text/plain": [
       "0       2019-03-24\n",
       "1       2019-05-01\n",
       "2       2019-06-09\n",
       "3       2019-05-12\n",
       "4       2019-03-01\n",
       "           ...    \n",
       "10678   2019-04-09\n",
       "10679   2019-04-27\n",
       "10680   2019-04-27\n",
       "10681   2019-03-01\n",
       "10682   2019-05-09\n",
       "Name: Date_of_Journey, Length: 10683, dtype: datetime64[ns]"
      ]
     },
     "execution_count": 89,
     "metadata": {},
     "output_type": "execute_result"
    }
   ],
   "source": [
    "pd.to_datetime(flights.Date_of_Journey, dayfirst=True)"
   ]
  },
  {
   "cell_type": "markdown",
   "id": "6ba80cec",
   "metadata": {},
   "source": [
    "### Source"
   ]
  },
  {
   "cell_type": "code",
   "execution_count": 90,
   "id": "5534f8ab",
   "metadata": {},
   "outputs": [
    {
     "data": {
      "text/plain": [
       "array(['Banglore', 'Kolkata', 'Delhi', 'Chennai', 'Mumbai'], dtype=object)"
      ]
     },
     "execution_count": 90,
     "metadata": {},
     "output_type": "execute_result"
    }
   ],
   "source": [
    "flights.Source.unique()"
   ]
  },
  {
   "cell_type": "markdown",
   "id": "fee08d66",
   "metadata": {},
   "source": [
    "### Destination"
   ]
  },
  {
   "cell_type": "code",
   "execution_count": 91,
   "id": "5a863066",
   "metadata": {},
   "outputs": [
    {
     "data": {
      "text/plain": [
       "array(['New Delhi', 'Banglore', 'Cochin', 'Kolkata', 'Delhi', 'Hyderabad'],\n",
       "      dtype=object)"
      ]
     },
     "execution_count": 91,
     "metadata": {},
     "output_type": "execute_result"
    }
   ],
   "source": [
    "flights.Destination.unique()"
   ]
  },
  {
   "cell_type": "markdown",
   "id": "7d075b1b",
   "metadata": {},
   "source": [
    "### Dep_time"
   ]
  },
  {
   "cell_type": "code",
   "execution_count": 92,
   "id": "3db647f6",
   "metadata": {},
   "outputs": [
    {
     "data": {
      "text/plain": [
       "0        22:20\n",
       "1        05:50\n",
       "2        09:25\n",
       "3        18:05\n",
       "4        16:50\n",
       "         ...  \n",
       "10678    19:55\n",
       "10679    20:45\n",
       "10680    08:20\n",
       "10681    11:30\n",
       "10682    10:55\n",
       "Name: Dep_Time, Length: 10683, dtype: object"
      ]
     },
     "execution_count": 92,
     "metadata": {},
     "output_type": "execute_result"
    }
   ],
   "source": [
    "flights.Dep_Time"
   ]
  },
  {
   "cell_type": "code",
   "execution_count": 93,
   "id": "436a5dd9",
   "metadata": {},
   "outputs": [
    {
     "data": {
      "text/plain": [
       "Series([], Name: Dep_Time, dtype: object)"
      ]
     },
     "execution_count": 93,
     "metadata": {},
     "output_type": "execute_result"
    }
   ],
   "source": [
    "(\n",
    "\tflights\n",
    "\t.Dep_Time\n",
    "\t.loc[lambda ser: ser.str.contains(\"[^0-9:]\")]      # filtering  using lambda func to get boolean result\n",
    ")"
   ]
  },
  {
   "cell_type": "code",
   "execution_count": 94,
   "id": "8b36892c",
   "metadata": {},
   "outputs": [
    {
     "data": {
      "text/plain": [
       "0        22:20:00\n",
       "1        05:50:00\n",
       "2        09:25:00\n",
       "3        18:05:00\n",
       "4        16:50:00\n",
       "           ...   \n",
       "10678    19:55:00\n",
       "10679    20:45:00\n",
       "10680    08:20:00\n",
       "10681    11:30:00\n",
       "10682    10:55:00\n",
       "Name: Dep_Time, Length: 10683, dtype: object"
      ]
     },
     "execution_count": 94,
     "metadata": {},
     "output_type": "execute_result"
    }
   ],
   "source": [
    "pd.to_datetime(flights.Dep_Time).dt.time               #to get only the time"
   ]
  },
  {
   "cell_type": "markdown",
   "id": "a11b8cb7",
   "metadata": {},
   "source": [
    "### Arrival_Time"
   ]
  },
  {
   "cell_type": "code",
   "execution_count": 95,
   "id": "6a7290c9",
   "metadata": {},
   "outputs": [
    {
     "data": {
      "text/plain": [
       "0        01:10 22 Mar\n",
       "1               13:15\n",
       "2        04:25 10 Jun\n",
       "3               23:30\n",
       "4               21:35\n",
       "             ...     \n",
       "10678           22:25\n",
       "10679           23:20\n",
       "10680           11:20\n",
       "10681           14:10\n",
       "10682           19:15\n",
       "Name: Arrival_Time, Length: 10683, dtype: object"
      ]
     },
     "execution_count": 95,
     "metadata": {},
     "output_type": "execute_result"
    }
   ],
   "source": [
    "flights.Arrival_Time"
   ]
  },
  {
   "cell_type": "code",
   "execution_count": 96,
   "id": "f213275c",
   "metadata": {},
   "outputs": [
    {
     "data": {
      "text/plain": [
       "array(['22 Mar', '10 Jun', '13 Mar', '02 Mar', '10 May', '04 Mar',\n",
       "       '13 Jun', '28 May', '19 Mar', '07 May', '02 Jun', '16 Jun',\n",
       "       '19 May', '16 May', '28 Jun', '02 May', '28 Mar', '19 Jun',\n",
       "       '04 Apr', '25 Mar', '07 Mar', '25 Jun', '07 Jun', '25 May',\n",
       "       '13 May', '16 Mar', '22 May', '10 Apr', '04 Jun', '20 May',\n",
       "       '28 Apr', '25 Apr', '10 Mar', '19 Apr', '13 Apr', '02 Apr',\n",
       "       '23 Mar', '22 Apr', '11 May', '07 Apr', '03 May', '08 Mar',\n",
       "       '03 Mar', '05 Mar', '22 Jun', '04 May', '26 May', '16 Apr',\n",
       "       '26 Jun', '29 May', '29 Jun', '29 Mar', '23 May', '17 Jun'],\n",
       "      dtype=object)"
      ]
     },
     "execution_count": 96,
     "metadata": {},
     "output_type": "execute_result"
    }
   ],
   "source": [
    "(\n",
    "\tflights\n",
    "\t.Arrival_Time\n",
    "\t.loc[lambda ser: ser.str.contains(\"[^0-9:]\")]\n",
    "\t.str.split(\" \", n=1)\n",
    "\t.str.get(1)\n",
    "\t.unique()\n",
    ")"
   ]
  },
  {
   "cell_type": "markdown",
   "id": "59f38069",
   "metadata": {},
   "source": [
    "### Duration"
   ]
  },
  {
   "cell_type": "code",
   "execution_count": 97,
   "id": "46a9a3df",
   "metadata": {},
   "outputs": [
    {
     "data": {
      "text/plain": [
       "0        2h 50m\n",
       "1        7h 25m\n",
       "2           19h\n",
       "3        5h 25m\n",
       "4        4h 45m\n",
       "          ...  \n",
       "10678    2h 30m\n",
       "10679    2h 35m\n",
       "10680        3h\n",
       "10681    2h 40m\n",
       "10682    8h 20m\n",
       "Name: Duration, Length: 10683, dtype: object"
      ]
     },
     "execution_count": 97,
     "metadata": {},
     "output_type": "execute_result"
    }
   ],
   "source": [
    "flights.Duration"
   ]
  },
  {
   "cell_type": "code",
   "execution_count": 98,
   "id": "1fe37c92",
   "metadata": {},
   "outputs": [
    {
     "data": {
      "text/plain": [
       "array(['19h', '23h', '22h', '12h', '3h', '5h', '10h', '18h', '24h', '15h',\n",
       "       '16h', '8h', '14h', '20h', '13h', '11h', '9h', '27h', '26h', '4h',\n",
       "       '7h', '30h', '21h', '28h', '47h', '6h', '25h', '38h', '34h'],\n",
       "      dtype=object)"
      ]
     },
     "execution_count": 98,
     "metadata": {},
     "output_type": "execute_result"
    }
   ],
   "source": [
    "(\n",
    "\tflights\n",
    "\t.Duration\n",
    "\t.loc[lambda ser: ~ser.str.contains(\"m\")]        # not containing m (~)\n",
    "\t.unique()\n",
    ")"
   ]
  },
  {
   "cell_type": "code",
   "execution_count": 99,
   "id": "7158dcc8",
   "metadata": {},
   "outputs": [
    {
     "data": {
      "text/plain": [
       "6474    5m\n",
       "Name: Duration, dtype: object"
      ]
     },
     "execution_count": 99,
     "metadata": {},
     "output_type": "execute_result"
    }
   ],
   "source": [
    "(\n",
    "\tflights\n",
    "\t.Duration\n",
    "\t.loc[lambda ser: ~ser.str.contains(\"h\")]      # not conataining h (~)\n",
    ")"
   ]
  },
  {
   "cell_type": "code",
   "execution_count": 100,
   "id": "8ba96f95",
   "metadata": {},
   "outputs": [
    {
     "data": {
      "text/html": [
       "<div>\n",
       "<style scoped>\n",
       "    .dataframe tbody tr th:only-of-type {\n",
       "        vertical-align: middle;\n",
       "    }\n",
       "\n",
       "    .dataframe tbody tr th {\n",
       "        vertical-align: top;\n",
       "    }\n",
       "\n",
       "    .dataframe thead th {\n",
       "        text-align: right;\n",
       "    }\n",
       "</style>\n",
       "<table border=\"1\" class=\"dataframe\">\n",
       "  <thead>\n",
       "    <tr style=\"text-align: right;\">\n",
       "      <th></th>\n",
       "      <th>Airline</th>\n",
       "      <th>Date_of_Journey</th>\n",
       "      <th>Source</th>\n",
       "      <th>Destination</th>\n",
       "      <th>Route</th>\n",
       "      <th>Dep_Time</th>\n",
       "      <th>Arrival_Time</th>\n",
       "      <th>Duration</th>\n",
       "      <th>Total_Stops</th>\n",
       "      <th>Additional_Info</th>\n",
       "      <th>Price</th>\n",
       "    </tr>\n",
       "  </thead>\n",
       "  <tbody>\n",
       "    <tr>\n",
       "      <th>6474</th>\n",
       "      <td>Air India</td>\n",
       "      <td>6/03/2019</td>\n",
       "      <td>Mumbai</td>\n",
       "      <td>Hyderabad</td>\n",
       "      <td>BOM → GOI → PNQ → HYD</td>\n",
       "      <td>16:50</td>\n",
       "      <td>16:55</td>\n",
       "      <td>5m</td>\n",
       "      <td>2 stops</td>\n",
       "      <td>No info</td>\n",
       "      <td>17327</td>\n",
       "    </tr>\n",
       "  </tbody>\n",
       "</table>\n",
       "</div>"
      ],
      "text/plain": [
       "        Airline Date_of_Journey  Source Destination                  Route  \\\n",
       "6474  Air India       6/03/2019  Mumbai   Hyderabad  BOM → GOI → PNQ → HYD   \n",
       "\n",
       "     Dep_Time Arrival_Time Duration Total_Stops Additional_Info  Price  \n",
       "6474    16:50        16:55       5m     2 stops         No info  17327  "
      ]
     },
     "execution_count": 100,
     "metadata": {},
     "output_type": "execute_result"
    }
   ],
   "source": [
    "flights.iloc[[6474]]"
   ]
  },
  {
   "cell_type": "markdown",
   "id": "83e571cd",
   "metadata": {},
   "source": [
    "-- The observation indexed 6474 has duration of 5 minutes. This is clearly wrong. Will delete this observation."
   ]
  },
  {
   "cell_type": "code",
   "execution_count": 101,
   "id": "f6c88c81",
   "metadata": {},
   "outputs": [
    {
     "data": {
      "text/plain": [
       "0         170\n",
       "1         445\n",
       "2        1140\n",
       "3         325\n",
       "4         285\n",
       "         ... \n",
       "10678     150\n",
       "10679     155\n",
       "10680     180\n",
       "10681     160\n",
       "10682     500\n",
       "Length: 10682, dtype: int64"
      ]
     },
     "execution_count": 101,
     "metadata": {},
     "output_type": "execute_result"
    }
   ],
   "source": [
    "(\n",
    "\tflights\n",
    "\t.Duration\n",
    "\t.drop(index=6474)\n",
    "\t.str.split(\" \", expand=True)\n",
    "\t.set_axis([\"hour\", \"minute\"], axis=1)   # renaming the column\n",
    "\t.assign(\n",
    "\t\thour=lambda df_: (\n",
    "\t\t\tdf_\n",
    "\t\t\t.hour\n",
    "\t\t\t.str.replace(\"h\", \"\")\n",
    "\t\t\t.astype(int)                    # as no missing value (checked with: isna().sum())\n",
    "\t\t\t.mul(60)                        # mul (multiplication with 60)\n",
    "\t\t),\n",
    "\t\tminute=lambda df_: (\n",
    "\t\t\tdf_\n",
    "\t\t\t.minute\n",
    "\t\t\t.str.replace(\"m\", \"\")\n",
    "\t\t\t.fillna(\"0\")                    # as having missing values (checked with: isna().sum())\n",
    "\t\t\t.astype(int)\n",
    "\t\t)\n",
    "\t)\n",
    "\t.sum(axis=1)                            # adding coverted values of minutes\n",
    ")"
   ]
  },
  {
   "cell_type": "code",
   "execution_count": 102,
   "id": "9bc41df4",
   "metadata": {},
   "outputs": [
    {
     "data": {
      "text/html": [
       "<div>\n",
       "<style scoped>\n",
       "    .dataframe tbody tr th:only-of-type {\n",
       "        vertical-align: middle;\n",
       "    }\n",
       "\n",
       "    .dataframe tbody tr th {\n",
       "        vertical-align: top;\n",
       "    }\n",
       "\n",
       "    .dataframe thead th {\n",
       "        text-align: right;\n",
       "    }\n",
       "</style>\n",
       "<table border=\"1\" class=\"dataframe\">\n",
       "  <thead>\n",
       "    <tr style=\"text-align: right;\">\n",
       "      <th></th>\n",
       "      <th>duration_minutes</th>\n",
       "      <th>Duration</th>\n",
       "    </tr>\n",
       "  </thead>\n",
       "  <tbody>\n",
       "    <tr>\n",
       "      <th>0</th>\n",
       "      <td>170</td>\n",
       "      <td>2h 50m</td>\n",
       "    </tr>\n",
       "    <tr>\n",
       "      <th>1</th>\n",
       "      <td>445</td>\n",
       "      <td>7h 25m</td>\n",
       "    </tr>\n",
       "    <tr>\n",
       "      <th>2</th>\n",
       "      <td>1140</td>\n",
       "      <td>19h</td>\n",
       "    </tr>\n",
       "    <tr>\n",
       "      <th>3</th>\n",
       "      <td>325</td>\n",
       "      <td>5h 25m</td>\n",
       "    </tr>\n",
       "    <tr>\n",
       "      <th>4</th>\n",
       "      <td>285</td>\n",
       "      <td>4h 45m</td>\n",
       "    </tr>\n",
       "    <tr>\n",
       "      <th>...</th>\n",
       "      <td>...</td>\n",
       "      <td>...</td>\n",
       "    </tr>\n",
       "    <tr>\n",
       "      <th>10678</th>\n",
       "      <td>150</td>\n",
       "      <td>2h 30m</td>\n",
       "    </tr>\n",
       "    <tr>\n",
       "      <th>10679</th>\n",
       "      <td>155</td>\n",
       "      <td>2h 35m</td>\n",
       "    </tr>\n",
       "    <tr>\n",
       "      <th>10680</th>\n",
       "      <td>180</td>\n",
       "      <td>3h</td>\n",
       "    </tr>\n",
       "    <tr>\n",
       "      <th>10681</th>\n",
       "      <td>160</td>\n",
       "      <td>2h 40m</td>\n",
       "    </tr>\n",
       "    <tr>\n",
       "      <th>10682</th>\n",
       "      <td>500</td>\n",
       "      <td>8h 20m</td>\n",
       "    </tr>\n",
       "  </tbody>\n",
       "</table>\n",
       "<p>10682 rows × 2 columns</p>\n",
       "</div>"
      ],
      "text/plain": [
       "       duration_minutes Duration\n",
       "0                   170   2h 50m\n",
       "1                   445   7h 25m\n",
       "2                  1140      19h\n",
       "3                   325   5h 25m\n",
       "4                   285   4h 45m\n",
       "...                 ...      ...\n",
       "10678               150   2h 30m\n",
       "10679               155   2h 35m\n",
       "10680               180       3h\n",
       "10681               160   2h 40m\n",
       "10682               500   8h 20m\n",
       "\n",
       "[10682 rows x 2 columns]"
      ]
     },
     "execution_count": 102,
     "metadata": {},
     "output_type": "execute_result"
    }
   ],
   "source": [
    "# validating the above converted values of minutes by joining to side\n",
    "(\n",
    "\tflights\n",
    "\t.Duration\n",
    "\t.drop(index=6474)\n",
    "\t.str.split(\" \", expand=True)\n",
    "\t.set_axis([\"hour\", \"minute\"], axis=1)\n",
    "\t.assign(\n",
    "\t\thour=lambda df_: (\n",
    "\t\t\tdf_\n",
    "\t\t\t.hour\n",
    "\t\t\t.str.replace(\"h\", \"\")\n",
    "\t\t\t.astype(int)\n",
    "\t\t\t.mul(60)\n",
    "\t\t),\n",
    "\t\tminute=lambda df_: (\n",
    "\t\t\tdf_\n",
    "\t\t\t.minute\n",
    "\t\t\t.str.replace(\"m\", \"\")\n",
    "\t\t\t.fillna(\"0\")\n",
    "\t\t\t.astype(int)\n",
    "\t\t)\n",
    "\t)\n",
    "\t.sum(axis=1)\n",
    "\t.rename(\"duration_minutes\")\n",
    "\t.to_frame()                                  #to get dataframe\n",
    "\t.join(flights.Duration.drop(index=6474))     #joining to dataframe\n",
    ")"
   ]
  },
  {
   "cell_type": "markdown",
   "id": "394bad5b",
   "metadata": {},
   "source": [
    "### Total_Stops"
   ]
  },
  {
   "cell_type": "code",
   "execution_count": 103,
   "id": "b76f6e8b",
   "metadata": {},
   "outputs": [
    {
     "data": {
      "text/plain": [
       "array(['non-stop', '2 stops', '1 stop', '3 stops', nan, '4 stops'],\n",
       "      dtype=object)"
      ]
     },
     "execution_count": 103,
     "metadata": {},
     "output_type": "execute_result"
    }
   ],
   "source": [
    "flights.Total_Stops.unique()"
   ]
  },
  {
   "cell_type": "code",
   "execution_count": 104,
   "id": "8150bc30",
   "metadata": {},
   "outputs": [
    {
     "data": {
      "text/plain": [
       "0        0.0\n",
       "1        2.0\n",
       "2        2.0\n",
       "3        1.0\n",
       "4        1.0\n",
       "        ... \n",
       "10678    0.0\n",
       "10679    0.0\n",
       "10680    0.0\n",
       "10681    0.0\n",
       "10682    2.0\n",
       "Name: Total_Stops, Length: 10683, dtype: float64"
      ]
     },
     "execution_count": 104,
     "metadata": {},
     "output_type": "execute_result"
    }
   ],
   "source": [
    "(\n",
    "\tflights\n",
    "\t.Total_Stops\n",
    "\t.replace(\"non-stop\", \"0\")\n",
    "\t.str.replace(\" stops?\", \"\", regex=True)    # searches for: \" stop\" or \" stops\"  with use of ? (s is optional: s?)\n",
    "\t.pipe(lambda ser: pd.to_numeric(ser))      #as float is the only compatible type and can't change values to int type\n",
    ")"
   ]
  },
  {
   "cell_type": "markdown",
   "id": "5a5633df",
   "metadata": {},
   "source": [
    "### additional_info"
   ]
  },
  {
   "cell_type": "code",
   "execution_count": 105,
   "id": "a44eda05",
   "metadata": {},
   "outputs": [
    {
     "data": {
      "text/plain": [
       "array(['No info', 'In-flight meal not included',\n",
       "       'No check-in baggage included', '1 Short layover', 'No Info',\n",
       "       '1 Long layover', 'Change airports', 'Business class',\n",
       "       'Red-eye flight', '2 Long layover'], dtype=object)"
      ]
     },
     "execution_count": 105,
     "metadata": {},
     "output_type": "execute_result"
    }
   ],
   "source": [
    "flights.Additional_Info.unique()"
   ]
  },
  {
   "cell_type": "markdown",
   "id": "44719e03",
   "metadata": {},
   "source": [
    "# 5. Cleaning Operations"
   ]
  },
  {
   "cell_type": "code",
   "execution_count": 106,
   "id": "e8f3261c",
   "metadata": {},
   "outputs": [],
   "source": [
    "#function for duration\n",
    "\n",
    "def convert_to_minutes(ser):\n",
    "\treturn (\n",
    "\t\tser\n",
    "\t\t.str.split(\" \", expand=True)\n",
    "\t\t.set_axis([\"hour\", \"minute\"], axis=1)\n",
    "\t\t.assign(\n",
    "\t\t\thour=lambda df_: (\n",
    "\t\t\t\tdf_\n",
    "\t\t\t\t.hour\n",
    "\t\t\t\t.str.replace(\"h\", \"\")\n",
    "\t\t\t\t.astype(int)\n",
    "\t\t\t\t.mul(60)\n",
    "\t\t\t),\n",
    "\t\t\tminute=lambda df_: (\n",
    "\t\t\t\tdf_\n",
    "\t\t\t\t.minute\n",
    "\t\t\t\t.str.replace(\"m\", \"\")\n",
    "\t\t\t\t.fillna(\"0\")\n",
    "\t\t\t\t.astype(int)\n",
    "\t\t\t)\n",
    "\t\t)\n",
    "\t\t.sum(axis=1)\n",
    "\t)"
   ]
  },
  {
   "cell_type": "code",
   "execution_count": 107,
   "id": "4ad3abde",
   "metadata": {},
   "outputs": [],
   "source": [
    "def clean_data(df):\n",
    "\treturn (\n",
    "\t\tdf\n",
    "\t\t.drop(index=[6474])\n",
    "\t\t.drop_duplicates()\n",
    "\t\t.assign(**{                                            # ** unpacking dictionary\n",
    "\t\t\tcol: df[col].str.strip()                           # ~~ dictionary comprehension\n",
    "\t\t\tfor col in df.select_dtypes(include=\"O\").columns   # using loop ~~ \n",
    "\t\t})\n",
    "\t\t.rename(columns=str.lower)\n",
    "\t\t.assign(\n",
    "\t\t\tairline=lambda df_: (                              # df_ : its the current state\n",
    "\t\t\t\tdf_\n",
    "\t\t\t\t.airline\n",
    "\t\t\t\t.str.replace(\" Premium economy\", \"\")            #cleaning inacurate values\n",
    "\t\t\t\t.str.replace(\" Business\", \"\")\n",
    "\t\t\t\t.str.title()\n",
    "\t\t\t),\n",
    "\t\t\tdate_of_journey=lambda df_: pd.to_datetime(df_.date_of_journey, dayfirst=True),\n",
    "\t\t\tdep_time=lambda df_: pd.to_datetime(df_.dep_time).dt.time,\n",
    "\t\t\tarrival_time=lambda df_: pd.to_datetime(df_.arrival_time).dt.time,\n",
    "\t\t\tduration=lambda df_: df_.duration.pipe(convert_to_minutes),   \n",
    "\t\t\ttotal_stops=lambda df_: (\n",
    "\t\t\t\tdf_\n",
    "\t\t\t\t.total_stops\n",
    "\t\t\t\t.replace(\"non-stop\", \"0\")\n",
    "\t\t\t\t.str.replace(\" stops?\", \"\", regex=True)\n",
    "\t\t\t\t.pipe(lambda ser: pd.to_numeric(ser))\n",
    "\t\t\t),\n",
    "\t\t\tadditional_info=lambda df_: df_.additional_info.replace(\"No info\", \"No Info\")  # as only spelling mistake is observed\n",
    "\t\t)\n",
    "\t\t.drop(columns=\"route\")               # info not required (i.e: redundant)\n",
    "\t)"
   ]
  },
  {
   "cell_type": "code",
   "execution_count": 108,
   "id": "8852b2c5",
   "metadata": {},
   "outputs": [],
   "source": [
    "flights_cleaned = clean_data(flights)\n"
   ]
  },
  {
   "cell_type": "code",
   "execution_count": 109,
   "id": "668faec8",
   "metadata": {},
   "outputs": [
    {
     "data": {
      "text/html": [
       "<div>\n",
       "<style scoped>\n",
       "    .dataframe tbody tr th:only-of-type {\n",
       "        vertical-align: middle;\n",
       "    }\n",
       "\n",
       "    .dataframe tbody tr th {\n",
       "        vertical-align: top;\n",
       "    }\n",
       "\n",
       "    .dataframe thead th {\n",
       "        text-align: right;\n",
       "    }\n",
       "</style>\n",
       "<table border=\"1\" class=\"dataframe\">\n",
       "  <thead>\n",
       "    <tr style=\"text-align: right;\">\n",
       "      <th></th>\n",
       "      <th>airline</th>\n",
       "      <th>date_of_journey</th>\n",
       "      <th>source</th>\n",
       "      <th>destination</th>\n",
       "      <th>dep_time</th>\n",
       "      <th>arrival_time</th>\n",
       "      <th>duration</th>\n",
       "      <th>total_stops</th>\n",
       "      <th>additional_info</th>\n",
       "      <th>price</th>\n",
       "    </tr>\n",
       "  </thead>\n",
       "  <tbody>\n",
       "    <tr>\n",
       "      <th>0</th>\n",
       "      <td>Indigo</td>\n",
       "      <td>2019-03-24</td>\n",
       "      <td>Banglore</td>\n",
       "      <td>New Delhi</td>\n",
       "      <td>22:20:00</td>\n",
       "      <td>01:10:00</td>\n",
       "      <td>170</td>\n",
       "      <td>0.0</td>\n",
       "      <td>No Info</td>\n",
       "      <td>3897</td>\n",
       "    </tr>\n",
       "    <tr>\n",
       "      <th>1</th>\n",
       "      <td>Air India</td>\n",
       "      <td>2019-05-01</td>\n",
       "      <td>Kolkata</td>\n",
       "      <td>Banglore</td>\n",
       "      <td>05:50:00</td>\n",
       "      <td>13:15:00</td>\n",
       "      <td>445</td>\n",
       "      <td>2.0</td>\n",
       "      <td>No Info</td>\n",
       "      <td>7662</td>\n",
       "    </tr>\n",
       "    <tr>\n",
       "      <th>2</th>\n",
       "      <td>Jet Airways</td>\n",
       "      <td>2019-06-09</td>\n",
       "      <td>Delhi</td>\n",
       "      <td>Cochin</td>\n",
       "      <td>09:25:00</td>\n",
       "      <td>04:25:00</td>\n",
       "      <td>1140</td>\n",
       "      <td>2.0</td>\n",
       "      <td>No Info</td>\n",
       "      <td>13882</td>\n",
       "    </tr>\n",
       "    <tr>\n",
       "      <th>3</th>\n",
       "      <td>Indigo</td>\n",
       "      <td>2019-05-12</td>\n",
       "      <td>Kolkata</td>\n",
       "      <td>Banglore</td>\n",
       "      <td>18:05:00</td>\n",
       "      <td>23:30:00</td>\n",
       "      <td>325</td>\n",
       "      <td>1.0</td>\n",
       "      <td>No Info</td>\n",
       "      <td>6218</td>\n",
       "    </tr>\n",
       "    <tr>\n",
       "      <th>4</th>\n",
       "      <td>Indigo</td>\n",
       "      <td>2019-03-01</td>\n",
       "      <td>Banglore</td>\n",
       "      <td>New Delhi</td>\n",
       "      <td>16:50:00</td>\n",
       "      <td>21:35:00</td>\n",
       "      <td>285</td>\n",
       "      <td>1.0</td>\n",
       "      <td>No Info</td>\n",
       "      <td>13302</td>\n",
       "    </tr>\n",
       "    <tr>\n",
       "      <th>...</th>\n",
       "      <td>...</td>\n",
       "      <td>...</td>\n",
       "      <td>...</td>\n",
       "      <td>...</td>\n",
       "      <td>...</td>\n",
       "      <td>...</td>\n",
       "      <td>...</td>\n",
       "      <td>...</td>\n",
       "      <td>...</td>\n",
       "      <td>...</td>\n",
       "    </tr>\n",
       "    <tr>\n",
       "      <th>10678</th>\n",
       "      <td>Air Asia</td>\n",
       "      <td>2019-04-09</td>\n",
       "      <td>Kolkata</td>\n",
       "      <td>Banglore</td>\n",
       "      <td>19:55:00</td>\n",
       "      <td>22:25:00</td>\n",
       "      <td>150</td>\n",
       "      <td>0.0</td>\n",
       "      <td>No Info</td>\n",
       "      <td>4107</td>\n",
       "    </tr>\n",
       "    <tr>\n",
       "      <th>10679</th>\n",
       "      <td>Air India</td>\n",
       "      <td>2019-04-27</td>\n",
       "      <td>Kolkata</td>\n",
       "      <td>Banglore</td>\n",
       "      <td>20:45:00</td>\n",
       "      <td>23:20:00</td>\n",
       "      <td>155</td>\n",
       "      <td>0.0</td>\n",
       "      <td>No Info</td>\n",
       "      <td>4145</td>\n",
       "    </tr>\n",
       "    <tr>\n",
       "      <th>10680</th>\n",
       "      <td>Jet Airways</td>\n",
       "      <td>2019-04-27</td>\n",
       "      <td>Banglore</td>\n",
       "      <td>Delhi</td>\n",
       "      <td>08:20:00</td>\n",
       "      <td>11:20:00</td>\n",
       "      <td>180</td>\n",
       "      <td>0.0</td>\n",
       "      <td>No Info</td>\n",
       "      <td>7229</td>\n",
       "    </tr>\n",
       "    <tr>\n",
       "      <th>10681</th>\n",
       "      <td>Vistara</td>\n",
       "      <td>2019-03-01</td>\n",
       "      <td>Banglore</td>\n",
       "      <td>New Delhi</td>\n",
       "      <td>11:30:00</td>\n",
       "      <td>14:10:00</td>\n",
       "      <td>160</td>\n",
       "      <td>0.0</td>\n",
       "      <td>No Info</td>\n",
       "      <td>12648</td>\n",
       "    </tr>\n",
       "    <tr>\n",
       "      <th>10682</th>\n",
       "      <td>Air India</td>\n",
       "      <td>2019-05-09</td>\n",
       "      <td>Delhi</td>\n",
       "      <td>Cochin</td>\n",
       "      <td>10:55:00</td>\n",
       "      <td>19:15:00</td>\n",
       "      <td>500</td>\n",
       "      <td>2.0</td>\n",
       "      <td>No Info</td>\n",
       "      <td>11753</td>\n",
       "    </tr>\n",
       "  </tbody>\n",
       "</table>\n",
       "<p>10462 rows × 10 columns</p>\n",
       "</div>"
      ],
      "text/plain": [
       "           airline date_of_journey    source destination  dep_time  \\\n",
       "0           Indigo      2019-03-24  Banglore   New Delhi  22:20:00   \n",
       "1        Air India      2019-05-01   Kolkata    Banglore  05:50:00   \n",
       "2      Jet Airways      2019-06-09     Delhi      Cochin  09:25:00   \n",
       "3           Indigo      2019-05-12   Kolkata    Banglore  18:05:00   \n",
       "4           Indigo      2019-03-01  Banglore   New Delhi  16:50:00   \n",
       "...            ...             ...       ...         ...       ...   \n",
       "10678     Air Asia      2019-04-09   Kolkata    Banglore  19:55:00   \n",
       "10679    Air India      2019-04-27   Kolkata    Banglore  20:45:00   \n",
       "10680  Jet Airways      2019-04-27  Banglore       Delhi  08:20:00   \n",
       "10681      Vistara      2019-03-01  Banglore   New Delhi  11:30:00   \n",
       "10682    Air India      2019-05-09     Delhi      Cochin  10:55:00   \n",
       "\n",
       "      arrival_time  duration  total_stops additional_info  price  \n",
       "0         01:10:00       170          0.0         No Info   3897  \n",
       "1         13:15:00       445          2.0         No Info   7662  \n",
       "2         04:25:00      1140          2.0         No Info  13882  \n",
       "3         23:30:00       325          1.0         No Info   6218  \n",
       "4         21:35:00       285          1.0         No Info  13302  \n",
       "...            ...       ...          ...             ...    ...  \n",
       "10678     22:25:00       150          0.0         No Info   4107  \n",
       "10679     23:20:00       155          0.0         No Info   4145  \n",
       "10680     11:20:00       180          0.0         No Info   7229  \n",
       "10681     14:10:00       160          0.0         No Info  12648  \n",
       "10682     19:15:00       500          2.0         No Info  11753  \n",
       "\n",
       "[10462 rows x 10 columns]"
      ]
     },
     "execution_count": 109,
     "metadata": {},
     "output_type": "execute_result"
    }
   ],
   "source": [
    "flights_cleaned"
   ]
  },
  {
   "cell_type": "markdown",
   "id": "3fa26ac0",
   "metadata": {},
   "source": [
    "# Splitting the data:"
   ]
  },
  {
   "cell_type": "code",
   "execution_count": 110,
   "id": "fa171dad",
   "metadata": {},
   "outputs": [],
   "source": [
    "flights_final = flights_cleaned.sample(1000)"
   ]
  },
  {
   "cell_type": "code",
   "execution_count": 111,
   "id": "0d2b7cbb",
   "metadata": {},
   "outputs": [],
   "source": [
    "X = flights_final.drop(columns=\"price\")\n",
    "y = flights_final.price.copy()"
   ]
  },
  {
   "cell_type": "code",
   "execution_count": 112,
   "id": "de33eff7",
   "metadata": {},
   "outputs": [
    {
     "name": "stdout",
     "output_type": "stream",
     "text": [
      "(640, 9) (640,)\n",
      "(160, 9) (160,)\n",
      "(200, 9) (200,)\n"
     ]
    }
   ],
   "source": [
    "X_, X_test, y_, y_test = train_test_split(X, y, test_size=0.2, random_state=42)\n",
    "X_train, X_val, y_train, y_val = train_test_split(X_, y_, test_size=0.2, random_state=42)\n",
    "\n",
    "print(X_train.shape, y_train.shape)\n",
    "print(X_val.shape, y_val.shape)\n",
    "print(X_test.shape, y_test.shape)"
   ]
  },
  {
   "cell_type": "markdown",
   "id": "e26c6972",
   "metadata": {},
   "source": [
    "# 7. Export the Subsets"
   ]
  },
  {
   "cell_type": "code",
   "execution_count": 113,
   "id": "1751f7a2",
   "metadata": {},
   "outputs": [],
   "source": [
    "def export_data(X, y, name):\n",
    "\tfile_name = f\"{name}.csv\"\n",
    "\tfile_path = os.path.join(PROJECT_DIR, DATA_DIR, file_name)\n",
    "\n",
    "\tX.join(y).to_csv(file_path, index=False)\n",
    "\n",
    "\treturn pd.read_csv(file_path).head()"
   ]
  },
  {
   "cell_type": "code",
   "execution_count": 114,
   "id": "ffde61b2",
   "metadata": {},
   "outputs": [
    {
     "data": {
      "text/html": [
       "<div>\n",
       "<style scoped>\n",
       "    .dataframe tbody tr th:only-of-type {\n",
       "        vertical-align: middle;\n",
       "    }\n",
       "\n",
       "    .dataframe tbody tr th {\n",
       "        vertical-align: top;\n",
       "    }\n",
       "\n",
       "    .dataframe thead th {\n",
       "        text-align: right;\n",
       "    }\n",
       "</style>\n",
       "<table border=\"1\" class=\"dataframe\">\n",
       "  <thead>\n",
       "    <tr style=\"text-align: right;\">\n",
       "      <th></th>\n",
       "      <th>airline</th>\n",
       "      <th>date_of_journey</th>\n",
       "      <th>source</th>\n",
       "      <th>destination</th>\n",
       "      <th>dep_time</th>\n",
       "      <th>arrival_time</th>\n",
       "      <th>duration</th>\n",
       "      <th>total_stops</th>\n",
       "      <th>additional_info</th>\n",
       "      <th>price</th>\n",
       "    </tr>\n",
       "  </thead>\n",
       "  <tbody>\n",
       "    <tr>\n",
       "      <th>0</th>\n",
       "      <td>Air India</td>\n",
       "      <td>2019-03-21</td>\n",
       "      <td>Delhi</td>\n",
       "      <td>Cochin</td>\n",
       "      <td>06:50:00</td>\n",
       "      <td>07:40:00</td>\n",
       "      <td>1490</td>\n",
       "      <td>2.0</td>\n",
       "      <td>No Info</td>\n",
       "      <td>11071</td>\n",
       "    </tr>\n",
       "    <tr>\n",
       "      <th>1</th>\n",
       "      <td>Air India</td>\n",
       "      <td>2019-06-24</td>\n",
       "      <td>Banglore</td>\n",
       "      <td>Delhi</td>\n",
       "      <td>21:05:00</td>\n",
       "      <td>23:55:00</td>\n",
       "      <td>170</td>\n",
       "      <td>0.0</td>\n",
       "      <td>No Info</td>\n",
       "      <td>6961</td>\n",
       "    </tr>\n",
       "    <tr>\n",
       "      <th>2</th>\n",
       "      <td>Multiple Carriers</td>\n",
       "      <td>2019-05-21</td>\n",
       "      <td>Delhi</td>\n",
       "      <td>Cochin</td>\n",
       "      <td>09:00:00</td>\n",
       "      <td>19:15:00</td>\n",
       "      <td>615</td>\n",
       "      <td>1.0</td>\n",
       "      <td>No Info</td>\n",
       "      <td>14848</td>\n",
       "    </tr>\n",
       "    <tr>\n",
       "      <th>3</th>\n",
       "      <td>Multiple Carriers</td>\n",
       "      <td>2019-03-27</td>\n",
       "      <td>Delhi</td>\n",
       "      <td>Cochin</td>\n",
       "      <td>10:45:00</td>\n",
       "      <td>19:15:00</td>\n",
       "      <td>510</td>\n",
       "      <td>1.0</td>\n",
       "      <td>No Info</td>\n",
       "      <td>7154</td>\n",
       "    </tr>\n",
       "    <tr>\n",
       "      <th>4</th>\n",
       "      <td>Indigo</td>\n",
       "      <td>2019-06-06</td>\n",
       "      <td>Banglore</td>\n",
       "      <td>Delhi</td>\n",
       "      <td>08:30:00</td>\n",
       "      <td>11:20:00</td>\n",
       "      <td>170</td>\n",
       "      <td>0.0</td>\n",
       "      <td>No Info</td>\n",
       "      <td>4823</td>\n",
       "    </tr>\n",
       "  </tbody>\n",
       "</table>\n",
       "</div>"
      ],
      "text/plain": [
       "             airline date_of_journey    source destination  dep_time  \\\n",
       "0          Air India      2019-03-21     Delhi      Cochin  06:50:00   \n",
       "1          Air India      2019-06-24  Banglore       Delhi  21:05:00   \n",
       "2  Multiple Carriers      2019-05-21     Delhi      Cochin  09:00:00   \n",
       "3  Multiple Carriers      2019-03-27     Delhi      Cochin  10:45:00   \n",
       "4             Indigo      2019-06-06  Banglore       Delhi  08:30:00   \n",
       "\n",
       "  arrival_time  duration  total_stops additional_info  price  \n",
       "0     07:40:00      1490          2.0         No Info  11071  \n",
       "1     23:55:00       170          0.0         No Info   6961  \n",
       "2     19:15:00       615          1.0         No Info  14848  \n",
       "3     19:15:00       510          1.0         No Info   7154  \n",
       "4     11:20:00       170          0.0         No Info   4823  "
      ]
     },
     "execution_count": 114,
     "metadata": {},
     "output_type": "execute_result"
    }
   ],
   "source": [
    "export_data(X_train, y_train, \"train\")"
   ]
  },
  {
   "cell_type": "code",
   "execution_count": 115,
   "id": "60a6b56a",
   "metadata": {},
   "outputs": [
    {
     "data": {
      "text/html": [
       "<div>\n",
       "<style scoped>\n",
       "    .dataframe tbody tr th:only-of-type {\n",
       "        vertical-align: middle;\n",
       "    }\n",
       "\n",
       "    .dataframe tbody tr th {\n",
       "        vertical-align: top;\n",
       "    }\n",
       "\n",
       "    .dataframe thead th {\n",
       "        text-align: right;\n",
       "    }\n",
       "</style>\n",
       "<table border=\"1\" class=\"dataframe\">\n",
       "  <thead>\n",
       "    <tr style=\"text-align: right;\">\n",
       "      <th></th>\n",
       "      <th>airline</th>\n",
       "      <th>date_of_journey</th>\n",
       "      <th>source</th>\n",
       "      <th>destination</th>\n",
       "      <th>dep_time</th>\n",
       "      <th>arrival_time</th>\n",
       "      <th>duration</th>\n",
       "      <th>total_stops</th>\n",
       "      <th>additional_info</th>\n",
       "      <th>price</th>\n",
       "    </tr>\n",
       "  </thead>\n",
       "  <tbody>\n",
       "    <tr>\n",
       "      <th>0</th>\n",
       "      <td>Jet Airways</td>\n",
       "      <td>2019-05-01</td>\n",
       "      <td>Kolkata</td>\n",
       "      <td>Banglore</td>\n",
       "      <td>20:25:00</td>\n",
       "      <td>10:55:00</td>\n",
       "      <td>870</td>\n",
       "      <td>1.0</td>\n",
       "      <td>No Info</td>\n",
       "      <td>12121</td>\n",
       "    </tr>\n",
       "    <tr>\n",
       "      <th>1</th>\n",
       "      <td>Jet Airways</td>\n",
       "      <td>2019-06-15</td>\n",
       "      <td>Delhi</td>\n",
       "      <td>Cochin</td>\n",
       "      <td>02:15:00</td>\n",
       "      <td>04:25:00</td>\n",
       "      <td>1570</td>\n",
       "      <td>1.0</td>\n",
       "      <td>In-flight meal not included</td>\n",
       "      <td>10262</td>\n",
       "    </tr>\n",
       "    <tr>\n",
       "      <th>2</th>\n",
       "      <td>Indigo</td>\n",
       "      <td>2019-05-27</td>\n",
       "      <td>Delhi</td>\n",
       "      <td>Cochin</td>\n",
       "      <td>17:10:00</td>\n",
       "      <td>01:30:00</td>\n",
       "      <td>500</td>\n",
       "      <td>1.0</td>\n",
       "      <td>No Info</td>\n",
       "      <td>6206</td>\n",
       "    </tr>\n",
       "    <tr>\n",
       "      <th>3</th>\n",
       "      <td>Indigo</td>\n",
       "      <td>2019-04-12</td>\n",
       "      <td>Kolkata</td>\n",
       "      <td>Banglore</td>\n",
       "      <td>20:20:00</td>\n",
       "      <td>22:55:00</td>\n",
       "      <td>155</td>\n",
       "      <td>0.0</td>\n",
       "      <td>No Info</td>\n",
       "      <td>4488</td>\n",
       "    </tr>\n",
       "    <tr>\n",
       "      <th>4</th>\n",
       "      <td>Spicejet</td>\n",
       "      <td>2019-06-21</td>\n",
       "      <td>Kolkata</td>\n",
       "      <td>Banglore</td>\n",
       "      <td>17:10:00</td>\n",
       "      <td>19:40:00</td>\n",
       "      <td>150</td>\n",
       "      <td>0.0</td>\n",
       "      <td>No Info</td>\n",
       "      <td>3873</td>\n",
       "    </tr>\n",
       "  </tbody>\n",
       "</table>\n",
       "</div>"
      ],
      "text/plain": [
       "       airline date_of_journey   source destination  dep_time arrival_time  \\\n",
       "0  Jet Airways      2019-05-01  Kolkata    Banglore  20:25:00     10:55:00   \n",
       "1  Jet Airways      2019-06-15    Delhi      Cochin  02:15:00     04:25:00   \n",
       "2       Indigo      2019-05-27    Delhi      Cochin  17:10:00     01:30:00   \n",
       "3       Indigo      2019-04-12  Kolkata    Banglore  20:20:00     22:55:00   \n",
       "4     Spicejet      2019-06-21  Kolkata    Banglore  17:10:00     19:40:00   \n",
       "\n",
       "   duration  total_stops              additional_info  price  \n",
       "0       870          1.0                      No Info  12121  \n",
       "1      1570          1.0  In-flight meal not included  10262  \n",
       "2       500          1.0                      No Info   6206  \n",
       "3       155          0.0                      No Info   4488  \n",
       "4       150          0.0                      No Info   3873  "
      ]
     },
     "execution_count": 115,
     "metadata": {},
     "output_type": "execute_result"
    }
   ],
   "source": [
    "export_data(X_val, y_val, \"val\")"
   ]
  },
  {
   "cell_type": "code",
   "execution_count": 116,
   "id": "6c137be0",
   "metadata": {},
   "outputs": [
    {
     "data": {
      "text/html": [
       "<div>\n",
       "<style scoped>\n",
       "    .dataframe tbody tr th:only-of-type {\n",
       "        vertical-align: middle;\n",
       "    }\n",
       "\n",
       "    .dataframe tbody tr th {\n",
       "        vertical-align: top;\n",
       "    }\n",
       "\n",
       "    .dataframe thead th {\n",
       "        text-align: right;\n",
       "    }\n",
       "</style>\n",
       "<table border=\"1\" class=\"dataframe\">\n",
       "  <thead>\n",
       "    <tr style=\"text-align: right;\">\n",
       "      <th></th>\n",
       "      <th>airline</th>\n",
       "      <th>date_of_journey</th>\n",
       "      <th>source</th>\n",
       "      <th>destination</th>\n",
       "      <th>dep_time</th>\n",
       "      <th>arrival_time</th>\n",
       "      <th>duration</th>\n",
       "      <th>total_stops</th>\n",
       "      <th>additional_info</th>\n",
       "      <th>price</th>\n",
       "    </tr>\n",
       "  </thead>\n",
       "  <tbody>\n",
       "    <tr>\n",
       "      <th>0</th>\n",
       "      <td>Air India</td>\n",
       "      <td>2019-05-18</td>\n",
       "      <td>Delhi</td>\n",
       "      <td>Cochin</td>\n",
       "      <td>05:10:00</td>\n",
       "      <td>08:00:00</td>\n",
       "      <td>170</td>\n",
       "      <td>0.0</td>\n",
       "      <td>No Info</td>\n",
       "      <td>6934</td>\n",
       "    </tr>\n",
       "    <tr>\n",
       "      <th>1</th>\n",
       "      <td>Spicejet</td>\n",
       "      <td>2019-03-27</td>\n",
       "      <td>Kolkata</td>\n",
       "      <td>Banglore</td>\n",
       "      <td>09:00:00</td>\n",
       "      <td>11:30:00</td>\n",
       "      <td>150</td>\n",
       "      <td>0.0</td>\n",
       "      <td>No check-in baggage included</td>\n",
       "      <td>3815</td>\n",
       "    </tr>\n",
       "    <tr>\n",
       "      <th>2</th>\n",
       "      <td>Jet Airways</td>\n",
       "      <td>2019-03-27</td>\n",
       "      <td>Delhi</td>\n",
       "      <td>Cochin</td>\n",
       "      <td>11:30:00</td>\n",
       "      <td>04:25:00</td>\n",
       "      <td>1015</td>\n",
       "      <td>1.0</td>\n",
       "      <td>No Info</td>\n",
       "      <td>12242</td>\n",
       "    </tr>\n",
       "    <tr>\n",
       "      <th>3</th>\n",
       "      <td>Jet Airways</td>\n",
       "      <td>2019-03-09</td>\n",
       "      <td>Delhi</td>\n",
       "      <td>Cochin</td>\n",
       "      <td>02:15:00</td>\n",
       "      <td>04:25:00</td>\n",
       "      <td>1570</td>\n",
       "      <td>1.0</td>\n",
       "      <td>In-flight meal not included</td>\n",
       "      <td>11848</td>\n",
       "    </tr>\n",
       "    <tr>\n",
       "      <th>4</th>\n",
       "      <td>Jet Airways</td>\n",
       "      <td>2019-05-09</td>\n",
       "      <td>Delhi</td>\n",
       "      <td>Cochin</td>\n",
       "      <td>19:45:00</td>\n",
       "      <td>19:00:00</td>\n",
       "      <td>1395</td>\n",
       "      <td>1.0</td>\n",
       "      <td>In-flight meal not included</td>\n",
       "      <td>12373</td>\n",
       "    </tr>\n",
       "  </tbody>\n",
       "</table>\n",
       "</div>"
      ],
      "text/plain": [
       "       airline date_of_journey   source destination  dep_time arrival_time  \\\n",
       "0    Air India      2019-05-18    Delhi      Cochin  05:10:00     08:00:00   \n",
       "1     Spicejet      2019-03-27  Kolkata    Banglore  09:00:00     11:30:00   \n",
       "2  Jet Airways      2019-03-27    Delhi      Cochin  11:30:00     04:25:00   \n",
       "3  Jet Airways      2019-03-09    Delhi      Cochin  02:15:00     04:25:00   \n",
       "4  Jet Airways      2019-05-09    Delhi      Cochin  19:45:00     19:00:00   \n",
       "\n",
       "   duration  total_stops               additional_info  price  \n",
       "0       170          0.0                       No Info   6934  \n",
       "1       150          0.0  No check-in baggage included   3815  \n",
       "2      1015          1.0                       No Info  12242  \n",
       "3      1570          1.0   In-flight meal not included  11848  \n",
       "4      1395          1.0   In-flight meal not included  12373  "
      ]
     },
     "execution_count": 116,
     "metadata": {},
     "output_type": "execute_result"
    }
   ],
   "source": [
    "export_data(X_test, y_test, \"test\")"
   ]
  },
  {
   "cell_type": "code",
   "execution_count": 117,
   "id": "4468b36f",
   "metadata": {},
   "outputs": [],
   "source": [
    "# Data in cleaned and subsets for training, testing, validation is created and exported"
   ]
  }
 ],
 "metadata": {
  "kernelspec": {
   "display_name": "Python 3 (ipykernel)",
   "language": "python",
   "name": "python3"
  },
  "language_info": {
   "codemirror_mode": {
    "name": "ipython",
    "version": 3
   },
   "file_extension": ".py",
   "mimetype": "text/x-python",
   "name": "python",
   "nbconvert_exporter": "python",
   "pygments_lexer": "ipython3",
   "version": "3.11.3"
  }
 },
 "nbformat": 4,
 "nbformat_minor": 5
}
